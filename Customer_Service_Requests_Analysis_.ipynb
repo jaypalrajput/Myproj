{
  "nbformat": 4,
  "nbformat_minor": 0,
  "metadata": {
    "kernelspec": {
      "display_name": "Python 3",
      "language": "python",
      "name": "python3"
    },
    "language_info": {
      "codemirror_mode": {
        "name": "ipython",
        "version": 3
      },
      "file_extension": ".py",
      "mimetype": "text/x-python",
      "name": "python",
      "nbconvert_exporter": "python",
      "pygments_lexer": "ipython3",
      "version": "3.7.6"
    },
    "colab": {
      "name": "Customer Service Requests Analysis .ipynb",
      "provenance": []
    }
  },
  "cells": [
    {
      "cell_type": "markdown",
      "metadata": {
        "id": "B2W4IocY3TpA"
      },
      "source": [
        "\n",
        "### DESCRIPTION\n",
        "\n",
        "##### Background of Problem Statement :\n",
        "\n",
        "- NYC 311's mission is to provide the public with quick and easy access to all New York City government services and information while offering the best customer service. Each day, NYC311 receives thousands of requests related to several hundred types of non-emergency services, including noise complaints, plumbing issues, and illegally parked cars. These requests are received by NYC311 and forwarded to the relevant agencies such as the police, buildings, or transportation. The agency responds to the request, addresses it, and then closes it.\n",
        "\n",
        "##### Problem Objective : Perform a service request data analysis of New York City 311 calls. You will focus on the data wrangling techniques to understand the pattern in the data and also visualize the major complaint types.\n",
        "\n",
        "- Domain: Customer Service\n",
        "\n",
        "#####  Analysis Tasks to be performed:\n",
        "- (Perform a service request data analysis of New York City 311 calls) \n",
        "1. Import a 311 NYC service request.\n",
        "2. Read or convert the columns ‘Created Date’ and Closed Date’ to datetime datatype and create a new column 'Request_Closing_Time’ as the time elapsed between request creation and request closing. (Hint: Explore the package/module datetime)\n",
        "3. Provide major insights/patterns that you can offer in a visual format (graphs or tables); at least 4 major conclusions that you can come up with after generic data mining.\n",
        "4. Order the complaint types based on the average ‘Request_Closing_Time’, grouping them for different locations.\n",
        "5. Perform a statistical test for the following:\n",
        "\n",
        "-  Please note: For the below statements you need to state the Null and Alternate and then provide a statistical test to accept or reject the Null Hypothesis along with the corresponding ‘p-value’.\n",
        "\n",
        " - Whether the average response time across complaint types is similar or not (overall)\n",
        "  - Are the type of complaint or service requested and location related?\n",
        "\n",
        "**Happy coding!**\n",
        "\n",
        "* * *"
      ]
    },
    {
      "cell_type": "markdown",
      "metadata": {
        "id": "fonSifKt3TpM"
      },
      "source": [
        "#### Import necessary packges"
      ]
    },
    {
      "cell_type": "code",
      "metadata": {
        "id": "kWIdt6QN3TpN"
      },
      "source": [
        "import numpy as np\n",
        "import pandas as pd"
      ],
      "execution_count": null,
      "outputs": []
    },
    {
      "cell_type": "markdown",
      "metadata": {
        "id": "QC_MZRKe3TpN"
      },
      "source": [
        "#### Load data"
      ]
    },
    {
      "cell_type": "code",
      "metadata": {
        "id": "piIxCUW63TpO",
        "colab": {
          "base_uri": "https://localhost:8080/",
          "height": 581
        },
        "outputId": "cae48487-595e-4fba-841a-9801b70ade5b"
      },
      "source": [
        "df = pd.read_csv('./311_Service_Requests_from_2010_to_Present.csv',low_memory=False)\n",
        "df.head()"
      ],
      "execution_count": null,
      "outputs": [
        {
          "output_type": "execute_result",
          "data": {
            "text/html": [
              "<div>\n",
              "<style scoped>\n",
              "    .dataframe tbody tr th:only-of-type {\n",
              "        vertical-align: middle;\n",
              "    }\n",
              "\n",
              "    .dataframe tbody tr th {\n",
              "        vertical-align: top;\n",
              "    }\n",
              "\n",
              "    .dataframe thead th {\n",
              "        text-align: right;\n",
              "    }\n",
              "</style>\n",
              "<table border=\"1\" class=\"dataframe\">\n",
              "  <thead>\n",
              "    <tr style=\"text-align: right;\">\n",
              "      <th></th>\n",
              "      <th>Unique Key</th>\n",
              "      <th>Created Date</th>\n",
              "      <th>Closed Date</th>\n",
              "      <th>Agency</th>\n",
              "      <th>Agency Name</th>\n",
              "      <th>Complaint Type</th>\n",
              "      <th>Descriptor</th>\n",
              "      <th>Location Type</th>\n",
              "      <th>Incident Zip</th>\n",
              "      <th>Incident Address</th>\n",
              "      <th>Street Name</th>\n",
              "      <th>Cross Street 1</th>\n",
              "      <th>Cross Street 2</th>\n",
              "      <th>Intersection Street 1</th>\n",
              "      <th>Intersection Street 2</th>\n",
              "      <th>Address Type</th>\n",
              "      <th>City</th>\n",
              "      <th>Landmark</th>\n",
              "      <th>Facility Type</th>\n",
              "      <th>Status</th>\n",
              "      <th>Due Date</th>\n",
              "      <th>Resolution Description</th>\n",
              "      <th>Resolution Action Updated Date</th>\n",
              "      <th>Community Board</th>\n",
              "      <th>Borough</th>\n",
              "      <th>X Coordinate (State Plane)</th>\n",
              "      <th>Y Coordinate (State Plane)</th>\n",
              "      <th>Park Facility Name</th>\n",
              "      <th>Park Borough</th>\n",
              "      <th>School Name</th>\n",
              "      <th>School Number</th>\n",
              "      <th>School Region</th>\n",
              "      <th>School Code</th>\n",
              "      <th>School Phone Number</th>\n",
              "      <th>School Address</th>\n",
              "      <th>School City</th>\n",
              "      <th>School State</th>\n",
              "      <th>School Zip</th>\n",
              "      <th>School Not Found</th>\n",
              "      <th>School or Citywide Complaint</th>\n",
              "      <th>Vehicle Type</th>\n",
              "      <th>Taxi Company Borough</th>\n",
              "      <th>Taxi Pick Up Location</th>\n",
              "      <th>Bridge Highway Name</th>\n",
              "      <th>Bridge Highway Direction</th>\n",
              "      <th>Road Ramp</th>\n",
              "      <th>Bridge Highway Segment</th>\n",
              "      <th>Garage Lot Name</th>\n",
              "      <th>Ferry Direction</th>\n",
              "      <th>Ferry Terminal Name</th>\n",
              "      <th>Latitude</th>\n",
              "      <th>Longitude</th>\n",
              "      <th>Location</th>\n",
              "    </tr>\n",
              "  </thead>\n",
              "  <tbody>\n",
              "    <tr>\n",
              "      <th>0</th>\n",
              "      <td>32310363</td>\n",
              "      <td>12/31/2015 11:59:45 PM</td>\n",
              "      <td>01-01-16 0:55</td>\n",
              "      <td>NYPD</td>\n",
              "      <td>New York City Police Department</td>\n",
              "      <td>Noise - Street/Sidewalk</td>\n",
              "      <td>Loud Music/Party</td>\n",
              "      <td>Street/Sidewalk</td>\n",
              "      <td>10034.0</td>\n",
              "      <td>71 VERMILYEA AVENUE</td>\n",
              "      <td>VERMILYEA AVENUE</td>\n",
              "      <td>ACADEMY STREET</td>\n",
              "      <td>WEST 204 STREET</td>\n",
              "      <td>NaN</td>\n",
              "      <td>NaN</td>\n",
              "      <td>ADDRESS</td>\n",
              "      <td>NEW YORK</td>\n",
              "      <td>NaN</td>\n",
              "      <td>Precinct</td>\n",
              "      <td>Closed</td>\n",
              "      <td>01-01-16 7:59</td>\n",
              "      <td>The Police Department responded and upon arriv...</td>\n",
              "      <td>01-01-16 0:55</td>\n",
              "      <td>12 MANHATTAN</td>\n",
              "      <td>MANHATTAN</td>\n",
              "      <td>1005409.0</td>\n",
              "      <td>254678.0</td>\n",
              "      <td>Unspecified</td>\n",
              "      <td>MANHATTAN</td>\n",
              "      <td>Unspecified</td>\n",
              "      <td>Unspecified</td>\n",
              "      <td>Unspecified</td>\n",
              "      <td>Unspecified</td>\n",
              "      <td>Unspecified</td>\n",
              "      <td>Unspecified</td>\n",
              "      <td>Unspecified</td>\n",
              "      <td>Unspecified</td>\n",
              "      <td>Unspecified</td>\n",
              "      <td>N</td>\n",
              "      <td>NaN</td>\n",
              "      <td>NaN</td>\n",
              "      <td>NaN</td>\n",
              "      <td>NaN</td>\n",
              "      <td>NaN</td>\n",
              "      <td>NaN</td>\n",
              "      <td>NaN</td>\n",
              "      <td>NaN</td>\n",
              "      <td>NaN</td>\n",
              "      <td>NaN</td>\n",
              "      <td>NaN</td>\n",
              "      <td>40.865682</td>\n",
              "      <td>-73.923501</td>\n",
              "      <td>(40.86568153633767, -73.92350095571744)</td>\n",
              "    </tr>\n",
              "    <tr>\n",
              "      <th>1</th>\n",
              "      <td>32309934</td>\n",
              "      <td>12/31/2015 11:59:44 PM</td>\n",
              "      <td>01-01-16 1:26</td>\n",
              "      <td>NYPD</td>\n",
              "      <td>New York City Police Department</td>\n",
              "      <td>Blocked Driveway</td>\n",
              "      <td>No Access</td>\n",
              "      <td>Street/Sidewalk</td>\n",
              "      <td>11105.0</td>\n",
              "      <td>27-07 23 AVENUE</td>\n",
              "      <td>23 AVENUE</td>\n",
              "      <td>27 STREET</td>\n",
              "      <td>28 STREET</td>\n",
              "      <td>NaN</td>\n",
              "      <td>NaN</td>\n",
              "      <td>ADDRESS</td>\n",
              "      <td>ASTORIA</td>\n",
              "      <td>NaN</td>\n",
              "      <td>Precinct</td>\n",
              "      <td>Closed</td>\n",
              "      <td>01-01-16 7:59</td>\n",
              "      <td>The Police Department responded to the complai...</td>\n",
              "      <td>01-01-16 1:26</td>\n",
              "      <td>01 QUEENS</td>\n",
              "      <td>QUEENS</td>\n",
              "      <td>1007766.0</td>\n",
              "      <td>221986.0</td>\n",
              "      <td>Unspecified</td>\n",
              "      <td>QUEENS</td>\n",
              "      <td>Unspecified</td>\n",
              "      <td>Unspecified</td>\n",
              "      <td>Unspecified</td>\n",
              "      <td>Unspecified</td>\n",
              "      <td>Unspecified</td>\n",
              "      <td>Unspecified</td>\n",
              "      <td>Unspecified</td>\n",
              "      <td>Unspecified</td>\n",
              "      <td>Unspecified</td>\n",
              "      <td>N</td>\n",
              "      <td>NaN</td>\n",
              "      <td>NaN</td>\n",
              "      <td>NaN</td>\n",
              "      <td>NaN</td>\n",
              "      <td>NaN</td>\n",
              "      <td>NaN</td>\n",
              "      <td>NaN</td>\n",
              "      <td>NaN</td>\n",
              "      <td>NaN</td>\n",
              "      <td>NaN</td>\n",
              "      <td>NaN</td>\n",
              "      <td>40.775945</td>\n",
              "      <td>-73.915094</td>\n",
              "      <td>(40.775945312321085, -73.91509393898605)</td>\n",
              "    </tr>\n",
              "    <tr>\n",
              "      <th>2</th>\n",
              "      <td>32309159</td>\n",
              "      <td>12/31/2015 11:59:29 PM</td>\n",
              "      <td>01-01-16 4:51</td>\n",
              "      <td>NYPD</td>\n",
              "      <td>New York City Police Department</td>\n",
              "      <td>Blocked Driveway</td>\n",
              "      <td>No Access</td>\n",
              "      <td>Street/Sidewalk</td>\n",
              "      <td>10458.0</td>\n",
              "      <td>2897 VALENTINE AVENUE</td>\n",
              "      <td>VALENTINE AVENUE</td>\n",
              "      <td>EAST 198 STREET</td>\n",
              "      <td>EAST 199 STREET</td>\n",
              "      <td>NaN</td>\n",
              "      <td>NaN</td>\n",
              "      <td>ADDRESS</td>\n",
              "      <td>BRONX</td>\n",
              "      <td>NaN</td>\n",
              "      <td>Precinct</td>\n",
              "      <td>Closed</td>\n",
              "      <td>01-01-16 7:59</td>\n",
              "      <td>The Police Department responded and upon arriv...</td>\n",
              "      <td>01-01-16 4:51</td>\n",
              "      <td>07 BRONX</td>\n",
              "      <td>BRONX</td>\n",
              "      <td>1015081.0</td>\n",
              "      <td>256380.0</td>\n",
              "      <td>Unspecified</td>\n",
              "      <td>BRONX</td>\n",
              "      <td>Unspecified</td>\n",
              "      <td>Unspecified</td>\n",
              "      <td>Unspecified</td>\n",
              "      <td>Unspecified</td>\n",
              "      <td>Unspecified</td>\n",
              "      <td>Unspecified</td>\n",
              "      <td>Unspecified</td>\n",
              "      <td>Unspecified</td>\n",
              "      <td>Unspecified</td>\n",
              "      <td>N</td>\n",
              "      <td>NaN</td>\n",
              "      <td>NaN</td>\n",
              "      <td>NaN</td>\n",
              "      <td>NaN</td>\n",
              "      <td>NaN</td>\n",
              "      <td>NaN</td>\n",
              "      <td>NaN</td>\n",
              "      <td>NaN</td>\n",
              "      <td>NaN</td>\n",
              "      <td>NaN</td>\n",
              "      <td>NaN</td>\n",
              "      <td>40.870325</td>\n",
              "      <td>-73.888525</td>\n",
              "      <td>(40.870324522111424, -73.88852464418646)</td>\n",
              "    </tr>\n",
              "    <tr>\n",
              "      <th>3</th>\n",
              "      <td>32305098</td>\n",
              "      <td>12/31/2015 11:57:46 PM</td>\n",
              "      <td>01-01-16 7:43</td>\n",
              "      <td>NYPD</td>\n",
              "      <td>New York City Police Department</td>\n",
              "      <td>Illegal Parking</td>\n",
              "      <td>Commercial Overnight Parking</td>\n",
              "      <td>Street/Sidewalk</td>\n",
              "      <td>10461.0</td>\n",
              "      <td>2940 BAISLEY AVENUE</td>\n",
              "      <td>BAISLEY AVENUE</td>\n",
              "      <td>EDISON AVENUE</td>\n",
              "      <td>B STREET</td>\n",
              "      <td>NaN</td>\n",
              "      <td>NaN</td>\n",
              "      <td>ADDRESS</td>\n",
              "      <td>BRONX</td>\n",
              "      <td>NaN</td>\n",
              "      <td>Precinct</td>\n",
              "      <td>Closed</td>\n",
              "      <td>01-01-16 7:57</td>\n",
              "      <td>The Police Department responded to the complai...</td>\n",
              "      <td>01-01-16 7:43</td>\n",
              "      <td>10 BRONX</td>\n",
              "      <td>BRONX</td>\n",
              "      <td>1031740.0</td>\n",
              "      <td>243899.0</td>\n",
              "      <td>Unspecified</td>\n",
              "      <td>BRONX</td>\n",
              "      <td>Unspecified</td>\n",
              "      <td>Unspecified</td>\n",
              "      <td>Unspecified</td>\n",
              "      <td>Unspecified</td>\n",
              "      <td>Unspecified</td>\n",
              "      <td>Unspecified</td>\n",
              "      <td>Unspecified</td>\n",
              "      <td>Unspecified</td>\n",
              "      <td>Unspecified</td>\n",
              "      <td>N</td>\n",
              "      <td>NaN</td>\n",
              "      <td>NaN</td>\n",
              "      <td>NaN</td>\n",
              "      <td>NaN</td>\n",
              "      <td>NaN</td>\n",
              "      <td>NaN</td>\n",
              "      <td>NaN</td>\n",
              "      <td>NaN</td>\n",
              "      <td>NaN</td>\n",
              "      <td>NaN</td>\n",
              "      <td>NaN</td>\n",
              "      <td>40.835994</td>\n",
              "      <td>-73.828379</td>\n",
              "      <td>(40.83599404683083, -73.82837939584206)</td>\n",
              "    </tr>\n",
              "    <tr>\n",
              "      <th>4</th>\n",
              "      <td>32306529</td>\n",
              "      <td>12/31/2015 11:56:58 PM</td>\n",
              "      <td>01-01-16 3:24</td>\n",
              "      <td>NYPD</td>\n",
              "      <td>New York City Police Department</td>\n",
              "      <td>Illegal Parking</td>\n",
              "      <td>Blocked Sidewalk</td>\n",
              "      <td>Street/Sidewalk</td>\n",
              "      <td>11373.0</td>\n",
              "      <td>87-14 57 ROAD</td>\n",
              "      <td>57 ROAD</td>\n",
              "      <td>SEABURY STREET</td>\n",
              "      <td>HOFFMAN DRIVE</td>\n",
              "      <td>NaN</td>\n",
              "      <td>NaN</td>\n",
              "      <td>ADDRESS</td>\n",
              "      <td>ELMHURST</td>\n",
              "      <td>NaN</td>\n",
              "      <td>Precinct</td>\n",
              "      <td>Closed</td>\n",
              "      <td>01-01-16 7:56</td>\n",
              "      <td>The Police Department responded and upon arriv...</td>\n",
              "      <td>01-01-16 3:24</td>\n",
              "      <td>04 QUEENS</td>\n",
              "      <td>QUEENS</td>\n",
              "      <td>1019123.0</td>\n",
              "      <td>206375.0</td>\n",
              "      <td>Unspecified</td>\n",
              "      <td>QUEENS</td>\n",
              "      <td>Unspecified</td>\n",
              "      <td>Unspecified</td>\n",
              "      <td>Unspecified</td>\n",
              "      <td>Unspecified</td>\n",
              "      <td>Unspecified</td>\n",
              "      <td>Unspecified</td>\n",
              "      <td>Unspecified</td>\n",
              "      <td>Unspecified</td>\n",
              "      <td>Unspecified</td>\n",
              "      <td>N</td>\n",
              "      <td>NaN</td>\n",
              "      <td>NaN</td>\n",
              "      <td>NaN</td>\n",
              "      <td>NaN</td>\n",
              "      <td>NaN</td>\n",
              "      <td>NaN</td>\n",
              "      <td>NaN</td>\n",
              "      <td>NaN</td>\n",
              "      <td>NaN</td>\n",
              "      <td>NaN</td>\n",
              "      <td>NaN</td>\n",
              "      <td>40.733060</td>\n",
              "      <td>-73.874170</td>\n",
              "      <td>(40.733059618956815, -73.87416975810375)</td>\n",
              "    </tr>\n",
              "  </tbody>\n",
              "</table>\n",
              "</div>"
            ],
            "text/plain": [
              "   Unique Key  ...                                  Location\n",
              "0    32310363  ...   (40.86568153633767, -73.92350095571744)\n",
              "1    32309934  ...  (40.775945312321085, -73.91509393898605)\n",
              "2    32309159  ...  (40.870324522111424, -73.88852464418646)\n",
              "3    32305098  ...   (40.83599404683083, -73.82837939584206)\n",
              "4    32306529  ...  (40.733059618956815, -73.87416975810375)\n",
              "\n",
              "[5 rows x 53 columns]"
            ]
          },
          "metadata": {
            "tags": []
          },
          "execution_count": 2
        }
      ]
    },
    {
      "cell_type": "code",
      "metadata": {
        "id": "cerzP05S3TpP",
        "colab": {
          "base_uri": "https://localhost:8080/"
        },
        "outputId": "d076a970-b37b-4988-e35a-86ecf9e986fb"
      },
      "source": [
        "df.info()"
      ],
      "execution_count": null,
      "outputs": [
        {
          "output_type": "stream",
          "text": [
            "<class 'pandas.core.frame.DataFrame'>\n",
            "RangeIndex: 300698 entries, 0 to 300697\n",
            "Data columns (total 53 columns):\n",
            " #   Column                          Non-Null Count   Dtype  \n",
            "---  ------                          --------------   -----  \n",
            " 0   Unique Key                      300698 non-null  int64  \n",
            " 1   Created Date                    300698 non-null  object \n",
            " 2   Closed Date                     298534 non-null  object \n",
            " 3   Agency                          300698 non-null  object \n",
            " 4   Agency Name                     300698 non-null  object \n",
            " 5   Complaint Type                  300698 non-null  object \n",
            " 6   Descriptor                      294784 non-null  object \n",
            " 7   Location Type                   300567 non-null  object \n",
            " 8   Incident Zip                    298083 non-null  float64\n",
            " 9   Incident Address                256288 non-null  object \n",
            " 10  Street Name                     256288 non-null  object \n",
            " 11  Cross Street 1                  251419 non-null  object \n",
            " 12  Cross Street 2                  250919 non-null  object \n",
            " 13  Intersection Street 1           43858 non-null   object \n",
            " 14  Intersection Street 2           43362 non-null   object \n",
            " 15  Address Type                    297883 non-null  object \n",
            " 16  City                            298084 non-null  object \n",
            " 17  Landmark                        349 non-null     object \n",
            " 18  Facility Type                   298527 non-null  object \n",
            " 19  Status                          300698 non-null  object \n",
            " 20  Due Date                        300695 non-null  object \n",
            " 21  Resolution Description          300698 non-null  object \n",
            " 22  Resolution Action Updated Date  298511 non-null  object \n",
            " 23  Community Board                 300698 non-null  object \n",
            " 24  Borough                         300698 non-null  object \n",
            " 25  X Coordinate (State Plane)      297158 non-null  float64\n",
            " 26  Y Coordinate (State Plane)      297158 non-null  float64\n",
            " 27  Park Facility Name              300698 non-null  object \n",
            " 28  Park Borough                    300698 non-null  object \n",
            " 29  School Name                     300698 non-null  object \n",
            " 30  School Number                   300698 non-null  object \n",
            " 31  School Region                   300697 non-null  object \n",
            " 32  School Code                     300697 non-null  object \n",
            " 33  School Phone Number             300698 non-null  object \n",
            " 34  School Address                  300698 non-null  object \n",
            " 35  School City                     300698 non-null  object \n",
            " 36  School State                    300698 non-null  object \n",
            " 37  School Zip                      300697 non-null  object \n",
            " 38  School Not Found                300698 non-null  object \n",
            " 39  School or Citywide Complaint    0 non-null       float64\n",
            " 40  Vehicle Type                    0 non-null       float64\n",
            " 41  Taxi Company Borough            0 non-null       float64\n",
            " 42  Taxi Pick Up Location           0 non-null       float64\n",
            " 43  Bridge Highway Name             243 non-null     object \n",
            " 44  Bridge Highway Direction        243 non-null     object \n",
            " 45  Road Ramp                       213 non-null     object \n",
            " 46  Bridge Highway Segment          213 non-null     object \n",
            " 47  Garage Lot Name                 0 non-null       float64\n",
            " 48  Ferry Direction                 1 non-null       object \n",
            " 49  Ferry Terminal Name             2 non-null       object \n",
            " 50  Latitude                        297158 non-null  float64\n",
            " 51  Longitude                       297158 non-null  float64\n",
            " 52  Location                        297158 non-null  object \n",
            "dtypes: float64(10), int64(1), object(42)\n",
            "memory usage: 121.6+ MB\n"
          ],
          "name": "stdout"
        }
      ]
    },
    {
      "cell_type": "markdown",
      "metadata": {
        "id": "D0qMqofh3TpP"
      },
      "source": [
        "###  Find the null columns and drop it"
      ]
    },
    {
      "cell_type": "code",
      "metadata": {
        "id": "297VS_KQ3TpQ",
        "colab": {
          "base_uri": "https://localhost:8080/"
        },
        "outputId": "8ac5e0ae-de45-4e45-b9af-e5a8429e1dcb"
      },
      "source": [
        "df.isnull().sum()/len(df)*100"
      ],
      "execution_count": null,
      "outputs": [
        {
          "output_type": "execute_result",
          "data": {
            "text/plain": [
              "Unique Key                          0.000000\n",
              "Created Date                        0.000000\n",
              "Closed Date                         0.719659\n",
              "Agency                              0.000000\n",
              "Agency Name                         0.000000\n",
              "Complaint Type                      0.000000\n",
              "Descriptor                          1.966757\n",
              "Location Type                       0.043565\n",
              "Incident Zip                        0.869643\n",
              "Incident Address                   14.768971\n",
              "Street Name                        14.768971\n",
              "Cross Street 1                     16.388203\n",
              "Cross Street 2                     16.554483\n",
              "Intersection Street 1              85.414602\n",
              "Intersection Street 2              85.579552\n",
              "Address Type                        0.936155\n",
              "City                                0.869311\n",
              "Landmark                           99.883937\n",
              "Facility Type                       0.721987\n",
              "Status                              0.000000\n",
              "Due Date                            0.000998\n",
              "Resolution Description              0.000000\n",
              "Resolution Action Updated Date      0.727308\n",
              "Community Board                     0.000000\n",
              "Borough                             0.000000\n",
              "X Coordinate (State Plane)          1.177261\n",
              "Y Coordinate (State Plane)          1.177261\n",
              "Park Facility Name                  0.000000\n",
              "Park Borough                        0.000000\n",
              "School Name                         0.000000\n",
              "School Number                       0.000000\n",
              "School Region                       0.000333\n",
              "School Code                         0.000333\n",
              "School Phone Number                 0.000000\n",
              "School Address                      0.000000\n",
              "School City                         0.000000\n",
              "School State                        0.000000\n",
              "School Zip                          0.000333\n",
              "School Not Found                    0.000000\n",
              "School or Citywide Complaint      100.000000\n",
              "Vehicle Type                      100.000000\n",
              "Taxi Company Borough              100.000000\n",
              "Taxi Pick Up Location             100.000000\n",
              "Bridge Highway Name                99.919188\n",
              "Bridge Highway Direction           99.919188\n",
              "Road Ramp                          99.929165\n",
              "Bridge Highway Segment             99.929165\n",
              "Garage Lot Name                   100.000000\n",
              "Ferry Direction                    99.999667\n",
              "Ferry Terminal Name                99.999335\n",
              "Latitude                            1.177261\n",
              "Longitude                           1.177261\n",
              "Location                            1.177261\n",
              "dtype: float64"
            ]
          },
          "metadata": {
            "tags": []
          },
          "execution_count": 4
        }
      ]
    },
    {
      "cell_type": "code",
      "metadata": {
        "id": "Eog1UWk43TpQ",
        "colab": {
          "base_uri": "https://localhost:8080/"
        },
        "outputId": "cb617108-e786-4355-ea2d-fbea776dfae7"
      },
      "source": [
        "df.shape"
      ],
      "execution_count": null,
      "outputs": [
        {
          "output_type": "execute_result",
          "data": {
            "text/plain": [
              "(300698, 53)"
            ]
          },
          "metadata": {
            "tags": []
          },
          "execution_count": 5
        }
      ]
    },
    {
      "cell_type": "code",
      "metadata": {
        "id": "fTw3mDkH3TpR"
      },
      "source": [
        "df.drop(['Agency','Intersection Street 1','Intersection Street 2','Landmark','School or Citywide Complaint','Vehicle Type','Taxi Company Borough','Taxi Pick Up Location','Bridge Highway Name','Bridge Highway Direction','Road Ramp', 'Bridge Highway Segment',  'Garage Lot Name','Ferry Direction','Ferry Terminal Name'],axis=1,inplace=True)"
      ],
      "execution_count": null,
      "outputs": []
    },
    {
      "cell_type": "code",
      "metadata": {
        "id": "15Jb0CeL3TpR",
        "colab": {
          "base_uri": "https://localhost:8080/"
        },
        "outputId": "335a7402-f795-4f7f-8651-314008c1a19f"
      },
      "source": [
        "df.shape"
      ],
      "execution_count": null,
      "outputs": [
        {
          "output_type": "execute_result",
          "data": {
            "text/plain": [
              "(300698, 38)"
            ]
          },
          "metadata": {
            "tags": []
          },
          "execution_count": 7
        }
      ]
    },
    {
      "cell_type": "code",
      "metadata": {
        "id": "zboqgAEK3TpS",
        "colab": {
          "base_uri": "https://localhost:8080/",
          "height": 297
        },
        "outputId": "5b48b055-a3f9-4a2c-a46b-31cbb7e631c5"
      },
      "source": [
        "df.describe()"
      ],
      "execution_count": null,
      "outputs": [
        {
          "output_type": "execute_result",
          "data": {
            "text/html": [
              "<div>\n",
              "<style scoped>\n",
              "    .dataframe tbody tr th:only-of-type {\n",
              "        vertical-align: middle;\n",
              "    }\n",
              "\n",
              "    .dataframe tbody tr th {\n",
              "        vertical-align: top;\n",
              "    }\n",
              "\n",
              "    .dataframe thead th {\n",
              "        text-align: right;\n",
              "    }\n",
              "</style>\n",
              "<table border=\"1\" class=\"dataframe\">\n",
              "  <thead>\n",
              "    <tr style=\"text-align: right;\">\n",
              "      <th></th>\n",
              "      <th>Unique Key</th>\n",
              "      <th>Incident Zip</th>\n",
              "      <th>X Coordinate (State Plane)</th>\n",
              "      <th>Y Coordinate (State Plane)</th>\n",
              "      <th>Latitude</th>\n",
              "      <th>Longitude</th>\n",
              "    </tr>\n",
              "  </thead>\n",
              "  <tbody>\n",
              "    <tr>\n",
              "      <th>count</th>\n",
              "      <td>3.006980e+05</td>\n",
              "      <td>298083.000000</td>\n",
              "      <td>2.971580e+05</td>\n",
              "      <td>297158.000000</td>\n",
              "      <td>297158.000000</td>\n",
              "      <td>297158.000000</td>\n",
              "    </tr>\n",
              "    <tr>\n",
              "      <th>mean</th>\n",
              "      <td>3.130054e+07</td>\n",
              "      <td>10848.888645</td>\n",
              "      <td>1.004854e+06</td>\n",
              "      <td>203754.534416</td>\n",
              "      <td>40.725885</td>\n",
              "      <td>-73.925630</td>\n",
              "    </tr>\n",
              "    <tr>\n",
              "      <th>std</th>\n",
              "      <td>5.738547e+05</td>\n",
              "      <td>583.182081</td>\n",
              "      <td>2.175338e+04</td>\n",
              "      <td>29880.183529</td>\n",
              "      <td>0.082012</td>\n",
              "      <td>0.078454</td>\n",
              "    </tr>\n",
              "    <tr>\n",
              "      <th>min</th>\n",
              "      <td>3.027948e+07</td>\n",
              "      <td>83.000000</td>\n",
              "      <td>9.133570e+05</td>\n",
              "      <td>121219.000000</td>\n",
              "      <td>40.499135</td>\n",
              "      <td>-74.254937</td>\n",
              "    </tr>\n",
              "    <tr>\n",
              "      <th>25%</th>\n",
              "      <td>3.080118e+07</td>\n",
              "      <td>10310.000000</td>\n",
              "      <td>9.919752e+05</td>\n",
              "      <td>183343.000000</td>\n",
              "      <td>40.669796</td>\n",
              "      <td>-73.972142</td>\n",
              "    </tr>\n",
              "    <tr>\n",
              "      <th>50%</th>\n",
              "      <td>3.130436e+07</td>\n",
              "      <td>11208.000000</td>\n",
              "      <td>1.003158e+06</td>\n",
              "      <td>201110.500000</td>\n",
              "      <td>40.718661</td>\n",
              "      <td>-73.931781</td>\n",
              "    </tr>\n",
              "    <tr>\n",
              "      <th>75%</th>\n",
              "      <td>3.178446e+07</td>\n",
              "      <td>11238.000000</td>\n",
              "      <td>1.018372e+06</td>\n",
              "      <td>224125.250000</td>\n",
              "      <td>40.781840</td>\n",
              "      <td>-73.876805</td>\n",
              "    </tr>\n",
              "    <tr>\n",
              "      <th>max</th>\n",
              "      <td>3.231065e+07</td>\n",
              "      <td>11697.000000</td>\n",
              "      <td>1.067173e+06</td>\n",
              "      <td>271876.000000</td>\n",
              "      <td>40.912869</td>\n",
              "      <td>-73.700760</td>\n",
              "    </tr>\n",
              "  </tbody>\n",
              "</table>\n",
              "</div>"
            ],
            "text/plain": [
              "         Unique Key   Incident Zip  ...       Latitude      Longitude\n",
              "count  3.006980e+05  298083.000000  ...  297158.000000  297158.000000\n",
              "mean   3.130054e+07   10848.888645  ...      40.725885     -73.925630\n",
              "std    5.738547e+05     583.182081  ...       0.082012       0.078454\n",
              "min    3.027948e+07      83.000000  ...      40.499135     -74.254937\n",
              "25%    3.080118e+07   10310.000000  ...      40.669796     -73.972142\n",
              "50%    3.130436e+07   11208.000000  ...      40.718661     -73.931781\n",
              "75%    3.178446e+07   11238.000000  ...      40.781840     -73.876805\n",
              "max    3.231065e+07   11697.000000  ...      40.912869     -73.700760\n",
              "\n",
              "[8 rows x 6 columns]"
            ]
          },
          "metadata": {
            "tags": []
          },
          "execution_count": 8
        }
      ]
    },
    {
      "cell_type": "markdown",
      "metadata": {
        "id": "dXR5f36q3TpS"
      },
      "source": [
        "## Import datatime module"
      ]
    },
    {
      "cell_type": "markdown",
      "metadata": {
        "id": "a3LDBErT4RKA"
      },
      "source": [
        "Read or convert the columns ‘Created Date’ and Closed Date’ to datetime datatype and create a new column 'Request_Closing_Time’ as the time elapsed between request creation and request closing. (Hint: Explore the package/module datetime)\n"
      ]
    },
    {
      "cell_type": "code",
      "metadata": {
        "id": "llRX2zOp3TpS"
      },
      "source": [
        "import datetime"
      ],
      "execution_count": null,
      "outputs": []
    },
    {
      "cell_type": "code",
      "metadata": {
        "id": "Lb9aaV9m3TpT",
        "colab": {
          "base_uri": "https://localhost:8080/"
        },
        "outputId": "c8116de9-3241-4f42-d340-f13c6551fbb5"
      },
      "source": [
        "df['Created Date'] = pd.to_datetime(df['Created Date'])\n",
        "df['Created Date']"
      ],
      "execution_count": null,
      "outputs": [
        {
          "output_type": "execute_result",
          "data": {
            "text/plain": [
              "0        2015-12-31 23:59:45\n",
              "1        2015-12-31 23:59:44\n",
              "2        2015-12-31 23:59:29\n",
              "3        2015-12-31 23:57:46\n",
              "4        2015-12-31 23:56:58\n",
              "                 ...        \n",
              "300693   2015-03-29 00:33:41\n",
              "300694   2015-03-29 00:33:28\n",
              "300695   2015-03-29 00:33:03\n",
              "300696   2015-03-29 00:33:02\n",
              "300697   2015-03-29 00:33:01\n",
              "Name: Created Date, Length: 300698, dtype: datetime64[ns]"
            ]
          },
          "metadata": {
            "tags": []
          },
          "execution_count": 10
        }
      ]
    },
    {
      "cell_type": "code",
      "metadata": {
        "id": "0woWMb8o3TpT",
        "colab": {
          "base_uri": "https://localhost:8080/"
        },
        "outputId": "de8b5512-eb4a-4a8a-c2e0-ab7f4624c360"
      },
      "source": [
        "df['Closed Date'] = pd.to_datetime(df['Closed Date'])\n",
        "df['Closed Date']"
      ],
      "execution_count": null,
      "outputs": [
        {
          "output_type": "execute_result",
          "data": {
            "text/plain": [
              "0        2016-01-01 00:55:00\n",
              "1        2016-01-01 01:26:00\n",
              "2        2016-01-01 04:51:00\n",
              "3        2016-01-01 07:43:00\n",
              "4        2016-01-01 03:24:00\n",
              "                 ...        \n",
              "300693                   NaT\n",
              "300694   2015-03-29 02:33:59\n",
              "300695   2015-03-29 03:40:20\n",
              "300696   2015-03-29 04:38:35\n",
              "300697   2015-03-29 04:41:50\n",
              "Name: Closed Date, Length: 300698, dtype: datetime64[ns]"
            ]
          },
          "metadata": {
            "tags": []
          },
          "execution_count": 11
        }
      ]
    },
    {
      "cell_type": "code",
      "metadata": {
        "id": "en_yKaVC3TpT"
      },
      "source": [
        "df['Request_Closing_Time']=df['Closed Date']-df['Created Date']"
      ],
      "execution_count": null,
      "outputs": []
    },
    {
      "cell_type": "code",
      "metadata": {
        "id": "i2fgMOQB3TpU"
      },
      "source": [
        "d=df['Request_Closing_Time']"
      ],
      "execution_count": null,
      "outputs": []
    },
    {
      "cell_type": "code",
      "metadata": {
        "id": "YzafhTpN3TpU"
      },
      "source": [
        "df['seconds_to_solve'] = d.dt.seconds"
      ],
      "execution_count": null,
      "outputs": []
    },
    {
      "cell_type": "code",
      "metadata": {
        "id": "Zc56hB6e3TpU"
      },
      "source": [
        "df['hours_to_solve'] = df['seconds_to_solve'] / 3600"
      ],
      "execution_count": null,
      "outputs": []
    },
    {
      "cell_type": "code",
      "metadata": {
        "scrolled": true,
        "id": "Xp4S-KrX3TpU",
        "colab": {
          "base_uri": "https://localhost:8080/",
          "height": 581
        },
        "outputId": "683f3e5f-3baf-4a2d-ca24-ab970e42519b"
      },
      "source": [
        "df.head(5)"
      ],
      "execution_count": null,
      "outputs": [
        {
          "output_type": "execute_result",
          "data": {
            "text/html": [
              "<div>\n",
              "<style scoped>\n",
              "    .dataframe tbody tr th:only-of-type {\n",
              "        vertical-align: middle;\n",
              "    }\n",
              "\n",
              "    .dataframe tbody tr th {\n",
              "        vertical-align: top;\n",
              "    }\n",
              "\n",
              "    .dataframe thead th {\n",
              "        text-align: right;\n",
              "    }\n",
              "</style>\n",
              "<table border=\"1\" class=\"dataframe\">\n",
              "  <thead>\n",
              "    <tr style=\"text-align: right;\">\n",
              "      <th></th>\n",
              "      <th>Unique Key</th>\n",
              "      <th>Created Date</th>\n",
              "      <th>Closed Date</th>\n",
              "      <th>Agency Name</th>\n",
              "      <th>Complaint Type</th>\n",
              "      <th>Descriptor</th>\n",
              "      <th>Location Type</th>\n",
              "      <th>Incident Zip</th>\n",
              "      <th>Incident Address</th>\n",
              "      <th>Street Name</th>\n",
              "      <th>Cross Street 1</th>\n",
              "      <th>Cross Street 2</th>\n",
              "      <th>Address Type</th>\n",
              "      <th>City</th>\n",
              "      <th>Facility Type</th>\n",
              "      <th>Status</th>\n",
              "      <th>Due Date</th>\n",
              "      <th>Resolution Description</th>\n",
              "      <th>Resolution Action Updated Date</th>\n",
              "      <th>Community Board</th>\n",
              "      <th>Borough</th>\n",
              "      <th>X Coordinate (State Plane)</th>\n",
              "      <th>Y Coordinate (State Plane)</th>\n",
              "      <th>Park Facility Name</th>\n",
              "      <th>Park Borough</th>\n",
              "      <th>School Name</th>\n",
              "      <th>School Number</th>\n",
              "      <th>School Region</th>\n",
              "      <th>School Code</th>\n",
              "      <th>School Phone Number</th>\n",
              "      <th>School Address</th>\n",
              "      <th>School City</th>\n",
              "      <th>School State</th>\n",
              "      <th>School Zip</th>\n",
              "      <th>School Not Found</th>\n",
              "      <th>Latitude</th>\n",
              "      <th>Longitude</th>\n",
              "      <th>Location</th>\n",
              "      <th>Request_Closing_Time</th>\n",
              "      <th>seconds_to_solve</th>\n",
              "      <th>hours_to_solve</th>\n",
              "    </tr>\n",
              "  </thead>\n",
              "  <tbody>\n",
              "    <tr>\n",
              "      <th>0</th>\n",
              "      <td>32310363</td>\n",
              "      <td>2015-12-31 23:59:45</td>\n",
              "      <td>2016-01-01 00:55:00</td>\n",
              "      <td>New York City Police Department</td>\n",
              "      <td>Noise - Street/Sidewalk</td>\n",
              "      <td>Loud Music/Party</td>\n",
              "      <td>Street/Sidewalk</td>\n",
              "      <td>10034.0</td>\n",
              "      <td>71 VERMILYEA AVENUE</td>\n",
              "      <td>VERMILYEA AVENUE</td>\n",
              "      <td>ACADEMY STREET</td>\n",
              "      <td>WEST 204 STREET</td>\n",
              "      <td>ADDRESS</td>\n",
              "      <td>NEW YORK</td>\n",
              "      <td>Precinct</td>\n",
              "      <td>Closed</td>\n",
              "      <td>01-01-16 7:59</td>\n",
              "      <td>The Police Department responded and upon arriv...</td>\n",
              "      <td>01-01-16 0:55</td>\n",
              "      <td>12 MANHATTAN</td>\n",
              "      <td>MANHATTAN</td>\n",
              "      <td>1005409.0</td>\n",
              "      <td>254678.0</td>\n",
              "      <td>Unspecified</td>\n",
              "      <td>MANHATTAN</td>\n",
              "      <td>Unspecified</td>\n",
              "      <td>Unspecified</td>\n",
              "      <td>Unspecified</td>\n",
              "      <td>Unspecified</td>\n",
              "      <td>Unspecified</td>\n",
              "      <td>Unspecified</td>\n",
              "      <td>Unspecified</td>\n",
              "      <td>Unspecified</td>\n",
              "      <td>Unspecified</td>\n",
              "      <td>N</td>\n",
              "      <td>40.865682</td>\n",
              "      <td>-73.923501</td>\n",
              "      <td>(40.86568153633767, -73.92350095571744)</td>\n",
              "      <td>0 days 00:55:15</td>\n",
              "      <td>3315.0</td>\n",
              "      <td>0.920833</td>\n",
              "    </tr>\n",
              "    <tr>\n",
              "      <th>1</th>\n",
              "      <td>32309934</td>\n",
              "      <td>2015-12-31 23:59:44</td>\n",
              "      <td>2016-01-01 01:26:00</td>\n",
              "      <td>New York City Police Department</td>\n",
              "      <td>Blocked Driveway</td>\n",
              "      <td>No Access</td>\n",
              "      <td>Street/Sidewalk</td>\n",
              "      <td>11105.0</td>\n",
              "      <td>27-07 23 AVENUE</td>\n",
              "      <td>23 AVENUE</td>\n",
              "      <td>27 STREET</td>\n",
              "      <td>28 STREET</td>\n",
              "      <td>ADDRESS</td>\n",
              "      <td>ASTORIA</td>\n",
              "      <td>Precinct</td>\n",
              "      <td>Closed</td>\n",
              "      <td>01-01-16 7:59</td>\n",
              "      <td>The Police Department responded to the complai...</td>\n",
              "      <td>01-01-16 1:26</td>\n",
              "      <td>01 QUEENS</td>\n",
              "      <td>QUEENS</td>\n",
              "      <td>1007766.0</td>\n",
              "      <td>221986.0</td>\n",
              "      <td>Unspecified</td>\n",
              "      <td>QUEENS</td>\n",
              "      <td>Unspecified</td>\n",
              "      <td>Unspecified</td>\n",
              "      <td>Unspecified</td>\n",
              "      <td>Unspecified</td>\n",
              "      <td>Unspecified</td>\n",
              "      <td>Unspecified</td>\n",
              "      <td>Unspecified</td>\n",
              "      <td>Unspecified</td>\n",
              "      <td>Unspecified</td>\n",
              "      <td>N</td>\n",
              "      <td>40.775945</td>\n",
              "      <td>-73.915094</td>\n",
              "      <td>(40.775945312321085, -73.91509393898605)</td>\n",
              "      <td>0 days 01:26:16</td>\n",
              "      <td>5176.0</td>\n",
              "      <td>1.437778</td>\n",
              "    </tr>\n",
              "    <tr>\n",
              "      <th>2</th>\n",
              "      <td>32309159</td>\n",
              "      <td>2015-12-31 23:59:29</td>\n",
              "      <td>2016-01-01 04:51:00</td>\n",
              "      <td>New York City Police Department</td>\n",
              "      <td>Blocked Driveway</td>\n",
              "      <td>No Access</td>\n",
              "      <td>Street/Sidewalk</td>\n",
              "      <td>10458.0</td>\n",
              "      <td>2897 VALENTINE AVENUE</td>\n",
              "      <td>VALENTINE AVENUE</td>\n",
              "      <td>EAST 198 STREET</td>\n",
              "      <td>EAST 199 STREET</td>\n",
              "      <td>ADDRESS</td>\n",
              "      <td>BRONX</td>\n",
              "      <td>Precinct</td>\n",
              "      <td>Closed</td>\n",
              "      <td>01-01-16 7:59</td>\n",
              "      <td>The Police Department responded and upon arriv...</td>\n",
              "      <td>01-01-16 4:51</td>\n",
              "      <td>07 BRONX</td>\n",
              "      <td>BRONX</td>\n",
              "      <td>1015081.0</td>\n",
              "      <td>256380.0</td>\n",
              "      <td>Unspecified</td>\n",
              "      <td>BRONX</td>\n",
              "      <td>Unspecified</td>\n",
              "      <td>Unspecified</td>\n",
              "      <td>Unspecified</td>\n",
              "      <td>Unspecified</td>\n",
              "      <td>Unspecified</td>\n",
              "      <td>Unspecified</td>\n",
              "      <td>Unspecified</td>\n",
              "      <td>Unspecified</td>\n",
              "      <td>Unspecified</td>\n",
              "      <td>N</td>\n",
              "      <td>40.870325</td>\n",
              "      <td>-73.888525</td>\n",
              "      <td>(40.870324522111424, -73.88852464418646)</td>\n",
              "      <td>0 days 04:51:31</td>\n",
              "      <td>17491.0</td>\n",
              "      <td>4.858611</td>\n",
              "    </tr>\n",
              "    <tr>\n",
              "      <th>3</th>\n",
              "      <td>32305098</td>\n",
              "      <td>2015-12-31 23:57:46</td>\n",
              "      <td>2016-01-01 07:43:00</td>\n",
              "      <td>New York City Police Department</td>\n",
              "      <td>Illegal Parking</td>\n",
              "      <td>Commercial Overnight Parking</td>\n",
              "      <td>Street/Sidewalk</td>\n",
              "      <td>10461.0</td>\n",
              "      <td>2940 BAISLEY AVENUE</td>\n",
              "      <td>BAISLEY AVENUE</td>\n",
              "      <td>EDISON AVENUE</td>\n",
              "      <td>B STREET</td>\n",
              "      <td>ADDRESS</td>\n",
              "      <td>BRONX</td>\n",
              "      <td>Precinct</td>\n",
              "      <td>Closed</td>\n",
              "      <td>01-01-16 7:57</td>\n",
              "      <td>The Police Department responded to the complai...</td>\n",
              "      <td>01-01-16 7:43</td>\n",
              "      <td>10 BRONX</td>\n",
              "      <td>BRONX</td>\n",
              "      <td>1031740.0</td>\n",
              "      <td>243899.0</td>\n",
              "      <td>Unspecified</td>\n",
              "      <td>BRONX</td>\n",
              "      <td>Unspecified</td>\n",
              "      <td>Unspecified</td>\n",
              "      <td>Unspecified</td>\n",
              "      <td>Unspecified</td>\n",
              "      <td>Unspecified</td>\n",
              "      <td>Unspecified</td>\n",
              "      <td>Unspecified</td>\n",
              "      <td>Unspecified</td>\n",
              "      <td>Unspecified</td>\n",
              "      <td>N</td>\n",
              "      <td>40.835994</td>\n",
              "      <td>-73.828379</td>\n",
              "      <td>(40.83599404683083, -73.82837939584206)</td>\n",
              "      <td>0 days 07:45:14</td>\n",
              "      <td>27914.0</td>\n",
              "      <td>7.753889</td>\n",
              "    </tr>\n",
              "    <tr>\n",
              "      <th>4</th>\n",
              "      <td>32306529</td>\n",
              "      <td>2015-12-31 23:56:58</td>\n",
              "      <td>2016-01-01 03:24:00</td>\n",
              "      <td>New York City Police Department</td>\n",
              "      <td>Illegal Parking</td>\n",
              "      <td>Blocked Sidewalk</td>\n",
              "      <td>Street/Sidewalk</td>\n",
              "      <td>11373.0</td>\n",
              "      <td>87-14 57 ROAD</td>\n",
              "      <td>57 ROAD</td>\n",
              "      <td>SEABURY STREET</td>\n",
              "      <td>HOFFMAN DRIVE</td>\n",
              "      <td>ADDRESS</td>\n",
              "      <td>ELMHURST</td>\n",
              "      <td>Precinct</td>\n",
              "      <td>Closed</td>\n",
              "      <td>01-01-16 7:56</td>\n",
              "      <td>The Police Department responded and upon arriv...</td>\n",
              "      <td>01-01-16 3:24</td>\n",
              "      <td>04 QUEENS</td>\n",
              "      <td>QUEENS</td>\n",
              "      <td>1019123.0</td>\n",
              "      <td>206375.0</td>\n",
              "      <td>Unspecified</td>\n",
              "      <td>QUEENS</td>\n",
              "      <td>Unspecified</td>\n",
              "      <td>Unspecified</td>\n",
              "      <td>Unspecified</td>\n",
              "      <td>Unspecified</td>\n",
              "      <td>Unspecified</td>\n",
              "      <td>Unspecified</td>\n",
              "      <td>Unspecified</td>\n",
              "      <td>Unspecified</td>\n",
              "      <td>Unspecified</td>\n",
              "      <td>N</td>\n",
              "      <td>40.733060</td>\n",
              "      <td>-73.874170</td>\n",
              "      <td>(40.733059618956815, -73.87416975810375)</td>\n",
              "      <td>0 days 03:27:02</td>\n",
              "      <td>12422.0</td>\n",
              "      <td>3.450556</td>\n",
              "    </tr>\n",
              "  </tbody>\n",
              "</table>\n",
              "</div>"
            ],
            "text/plain": [
              "   Unique Key        Created Date  ... seconds_to_solve hours_to_solve\n",
              "0    32310363 2015-12-31 23:59:45  ...           3315.0       0.920833\n",
              "1    32309934 2015-12-31 23:59:44  ...           5176.0       1.437778\n",
              "2    32309159 2015-12-31 23:59:29  ...          17491.0       4.858611\n",
              "3    32305098 2015-12-31 23:57:46  ...          27914.0       7.753889\n",
              "4    32306529 2015-12-31 23:56:58  ...          12422.0       3.450556\n",
              "\n",
              "[5 rows x 41 columns]"
            ]
          },
          "metadata": {
            "tags": []
          },
          "execution_count": 16
        }
      ]
    },
    {
      "cell_type": "markdown",
      "metadata": {
        "id": "1cCiz6Ro3TpV"
      },
      "source": [
        "### Major insights/patterns in the visual format (graphs or tables)\n",
        "- Major insights/patterns that you can offer in a visual format (graphs or tables)\n",
        "- at least 4 major conclusions that you can come up with after generic data mining"
      ]
    },
    {
      "cell_type": "code",
      "metadata": {
        "id": "5wpLa92a3TpV"
      },
      "source": [
        "from matplotlib  import image\n",
        "import matplotlib.pyplot as plt\n",
        "%matplotlib inline\n",
        "import seaborn as sns"
      ],
      "execution_count": null,
      "outputs": []
    },
    {
      "cell_type": "code",
      "metadata": {
        "id": "-VkijfiN3TpV",
        "colab": {
          "base_uri": "https://localhost:8080/",
          "height": 165
        },
        "outputId": "85b318a7-b1be-4e70-f51c-00ab6f0eb111"
      },
      "source": [
        "df.keys()"
      ],
      "execution_count": null,
      "outputs": [
        {
          "output_type": "error",
          "ename": "NameError",
          "evalue": "ignored",
          "traceback": [
            "\u001b[0;31m---------------------------------------------------------------------------\u001b[0m",
            "\u001b[0;31mNameError\u001b[0m                                 Traceback (most recent call last)",
            "\u001b[0;32m<ipython-input-2-844b92ecfe0f>\u001b[0m in \u001b[0;36m<module>\u001b[0;34m()\u001b[0m\n\u001b[0;32m----> 1\u001b[0;31m \u001b[0mdf\u001b[0m\u001b[0;34m.\u001b[0m\u001b[0mkeys\u001b[0m\u001b[0;34m(\u001b[0m\u001b[0;34m)\u001b[0m\u001b[0;34m\u001b[0m\u001b[0;34m\u001b[0m\u001b[0m\n\u001b[0m",
            "\u001b[0;31mNameError\u001b[0m: name 'df' is not defined"
          ]
        }
      ]
    },
    {
      "cell_type": "markdown",
      "metadata": {
        "id": "HNE-ZSmK3TpW"
      },
      "source": [
        "# Find the how many Agency Working"
      ]
    },
    {
      "cell_type": "code",
      "metadata": {
        "id": "yGNiZ3Hg3TpW",
        "colab": {
          "base_uri": "https://localhost:8080/"
        },
        "outputId": "49f421dc-c44d-46d6-beb2-9fba30a0a73c"
      },
      "source": [
        "df['Agency Name'].nunique()"
      ],
      "execution_count": null,
      "outputs": [
        {
          "output_type": "execute_result",
          "data": {
            "text/plain": [
              "3"
            ]
          },
          "metadata": {
            "tags": []
          },
          "execution_count": 19
        }
      ]
    },
    {
      "cell_type": "code",
      "metadata": {
        "id": "ENFFyOZp3TpW",
        "colab": {
          "base_uri": "https://localhost:8080/"
        },
        "outputId": "4dc865c2-8663-4192-d619-4e92e277b662"
      },
      "source": [
        "print(df['Agency Name'].unique())"
      ],
      "execution_count": null,
      "outputs": [
        {
          "output_type": "stream",
          "text": [
            "['New York City Police Department' 'NYPD' 'Internal Affairs Bureau']\n"
          ],
          "name": "stdout"
        }
      ]
    },
    {
      "cell_type": "markdown",
      "metadata": {
        "id": "ZYcrfksV3TpW"
      },
      "source": [
        "Only 3 **Agency Name** working.\n",
        "Name of these\n",
        "1. New York City Police Department\n",
        "2. NYPD\n",
        "3. Internal Affairs Bureau"
      ]
    },
    {
      "cell_type": "markdown",
      "metadata": {
        "id": "uc0sY2tH3TpX"
      },
      "source": [
        "## Which agency solve maximum problem?"
      ]
    },
    {
      "cell_type": "code",
      "metadata": {
        "id": "n2LuMEyr3TpX",
        "colab": {
          "base_uri": "https://localhost:8080/"
        },
        "outputId": "11c4c737-76ce-4ab1-8306-0c36e8b47b28"
      },
      "source": [
        "df['Agency Name'].value_counts()"
      ],
      "execution_count": null,
      "outputs": [
        {
          "output_type": "execute_result",
          "data": {
            "text/plain": [
              "New York City Police Department    300690\n",
              "Internal Affairs Bureau                 6\n",
              "NYPD                                    2\n",
              "Name: Agency Name, dtype: int64"
            ]
          },
          "metadata": {
            "tags": []
          },
          "execution_count": 21
        }
      ]
    },
    {
      "cell_type": "code",
      "metadata": {
        "id": "RJWZnrGF3TpX",
        "colab": {
          "base_uri": "https://localhost:8080/",
          "height": 436
        },
        "outputId": "740550ea-b036-4017-858c-63c3407ac67d"
      },
      "source": [
        "df['Agency Name'].value_counts().plot(kind='bar',alpha=0.5)"
      ],
      "execution_count": null,
      "outputs": [
        {
          "output_type": "execute_result",
          "data": {
            "text/plain": [
              "<matplotlib.axes._subplots.AxesSubplot at 0x7f32932637f0>"
            ]
          },
          "metadata": {
            "tags": []
          },
          "execution_count": 22
        },
        {
          "output_type": "display_data",
          "data": {
            "image/png": "[encoded data removed]",
            "text/plain": [
              "<Figure size 432x288 with 1 Axes>"
            ]
          },
          "metadata": {
            "tags": [],
            "needs_background": "light"
          }
        }
      ]
    },
    {
      "cell_type": "markdown",
      "metadata": {
        "id": "9u6OsVSi3TpX"
      },
      "source": [
        "### Ans-  Maximum **'New York City Police Department'** Agency solved maximum problem"
      ]
    },
    {
      "cell_type": "markdown",
      "metadata": {
        "id": "MUrIvZKw3TpY"
      },
      "source": [
        "# What are type Complaint Type?"
      ]
    },
    {
      "cell_type": "code",
      "metadata": {
        "id": "sP2JzV7O3TpY",
        "colab": {
          "base_uri": "https://localhost:8080/"
        },
        "outputId": "3a6891d7-d37c-4e40-834a-ae476406176a"
      },
      "source": [
        "df['Complaint Type'].value_counts()"
      ],
      "execution_count": null,
      "outputs": [
        {
          "output_type": "execute_result",
          "data": {
            "text/plain": [
              "Blocked Driveway             77044\n",
              "Illegal Parking              75361\n",
              "Noise - Street/Sidewalk      48612\n",
              "Noise - Commercial           35577\n",
              "Derelict Vehicle             17718\n",
              "Noise - Vehicle              17083\n",
              "Animal Abuse                  7778\n",
              "Traffic                       4498\n",
              "Homeless Encampment           4416\n",
              "Noise - Park                  4042\n",
              "Vending                       3802\n",
              "Drinking                      1280\n",
              "Noise - House of Worship       931\n",
              "Posting Advertisement          650\n",
              "Urinating in Public            592\n",
              "Bike/Roller/Skate Chronic      427\n",
              "Panhandling                    307\n",
              "Disorderly Youth               286\n",
              "Illegal Fireworks              168\n",
              "Graffiti                       113\n",
              "Agency Issues                    6\n",
              "Squeegee                         4\n",
              "Ferry Complaint                  2\n",
              "Animal in a Park                 1\n",
              "Name: Complaint Type, dtype: int64"
            ]
          },
          "metadata": {
            "tags": []
          },
          "execution_count": 23
        }
      ]
    },
    {
      "cell_type": "code",
      "metadata": {
        "id": "LKPe_9Lu3TpY",
        "colab": {
          "base_uri": "https://localhost:8080/",
          "height": 265
        },
        "outputId": "34b4412e-ebdc-4cd6-bbe3-b201a5540733"
      },
      "source": [
        "df['Complaint Type'].value_counts().head(10).plot(kind='pie')"
      ],
      "execution_count": null,
      "outputs": [
        {
          "output_type": "execute_result",
          "data": {
            "text/plain": [
              "<matplotlib.axes._subplots.AxesSubplot at 0x7f32931ac240>"
            ]
          },
          "metadata": {
            "tags": []
          },
          "execution_count": 24
        },
        {
          "output_type": "display_data",
          "data": {
            "image/png": "[encoded data removed]",
            "text/plain": [
              "<Figure size 432x288 with 1 Axes>"
            ]
          },
          "metadata": {
            "tags": []
          }
        }
      ]
    },
    {
      "cell_type": "code",
      "metadata": {
        "id": "LWxjRFoC3TpY",
        "colab": {
          "base_uri": "https://localhost:8080/",
          "height": 436
        },
        "outputId": "327af0fe-10d3-467e-8e16-1ea2e0d35582"
      },
      "source": [
        "#complaint type breakdown with bars plot to figure out the top 10 complaints\n",
        "df['Complaint Type'].value_counts().plot(kind='bar',alpha=0.6, figsize=(10,5))\n",
        "plt.show()"
      ],
      "execution_count": null,
      "outputs": [
        {
          "output_type": "display_data",
          "data": {
            "image/png": "[encoded data removed]",
            "text/plain": [
              "<Figure size 720x360 with 1 Axes>"
            ]
          },
          "metadata": {
            "tags": [],
            "needs_background": "light"
          }
        }
      ]
    },
    {
      "cell_type": "markdown",
      "metadata": {
        "id": "9M-mVD633TpZ"
      },
      "source": [
        " Total 24 types of Complaint\n",
        " \n",
        "-Out of these \"Blocked Driveway\" and \"Illegal Parking\" have maximum compliant"
      ]
    },
    {
      "cell_type": "markdown",
      "metadata": {
        "id": "qtfwYb-E3TpZ"
      },
      "source": [
        "## What are different Location ?"
      ]
    },
    {
      "cell_type": "code",
      "metadata": {
        "id": "kQp0r5q93TpZ",
        "colab": {
          "base_uri": "https://localhost:8080/"
        },
        "outputId": "797419d9-10aa-4ca8-dc73-7d68fde9ae36"
      },
      "source": [
        "df['Location Type'].value_counts()"
      ],
      "execution_count": null,
      "outputs": [
        {
          "output_type": "execute_result",
          "data": {
            "text/plain": [
              "Street/Sidewalk               249299\n",
              "Store/Commercial               20381\n",
              "Club/Bar/Restaurant            17360\n",
              "Residential Building/House      6960\n",
              "Park/Playground                 4773\n",
              "House of Worship                 929\n",
              "Residential Building             227\n",
              "Highway                          215\n",
              "Parking Lot                      117\n",
              "House and Store                   93\n",
              "Vacant Lot                        77\n",
              "Commercial                        62\n",
              "Roadway Tunnel                    35\n",
              "Subway Station                    34\n",
              "Bridge                             2\n",
              "Terminal                           1\n",
              "Ferry                              1\n",
              "Park                               1\n",
              "Name: Location Type, dtype: int64"
            ]
          },
          "metadata": {
            "tags": []
          },
          "execution_count": 26
        }
      ]
    },
    {
      "cell_type": "code",
      "metadata": {
        "id": "Pi0by04s3TpZ",
        "colab": {
          "base_uri": "https://localhost:8080/",
          "height": 406
        },
        "outputId": "4a18edc0-1690-4121-c1bf-8211ccef4136"
      },
      "source": [
        "df['Location Type'].value_counts().head(5).plot(kind='bar')"
      ],
      "execution_count": null,
      "outputs": [
        {
          "output_type": "execute_result",
          "data": {
            "text/plain": [
              "<matplotlib.axes._subplots.AxesSubplot at 0x7f3292c6dc88>"
            ]
          },
          "metadata": {
            "tags": []
          },
          "execution_count": 27
        },
        {
          "output_type": "display_data",
          "data": {
            "image/png": "[encoded data removed]",
            "text/plain": [
              "<Figure size 432x288 with 1 Axes>"
            ]
          },
          "metadata": {
            "tags": [],
            "needs_background": "light"
          }
        }
      ]
    },
    {
      "cell_type": "markdown",
      "metadata": {
        "id": "JRJOP7Iq3Tpa"
      },
      "source": [
        "- Total 18 different location types out of this \"Street/Sidewalk \" is maximum"
      ]
    },
    {
      "cell_type": "markdown",
      "metadata": {
        "id": "048MEtyC3Tpa"
      },
      "source": [
        "# Count city and count city with differnt complaint"
      ]
    },
    {
      "cell_type": "code",
      "metadata": {
        "id": "qhg9Jfa03Tpa",
        "colab": {
          "base_uri": "https://localhost:8080/"
        },
        "outputId": "f732c01b-7c59-4c3b-ac94-975561ca361b"
      },
      "source": [
        "df['City'].value_counts().head(5)"
      ],
      "execution_count": null,
      "outputs": [
        {
          "output_type": "execute_result",
          "data": {
            "text/plain": [
              "BROOKLYN         98307\n",
              "NEW YORK         65994\n",
              "BRONX            40702\n",
              "STATEN ISLAND    12343\n",
              "JAMAICA           7296\n",
              "Name: City, dtype: int64"
            ]
          },
          "metadata": {
            "tags": []
          },
          "execution_count": 28
        }
      ]
    },
    {
      "cell_type": "code",
      "metadata": {
        "id": "ZHT1STya3Tpa",
        "colab": {
          "base_uri": "https://localhost:8080/",
          "height": 428
        },
        "outputId": "9247f8e9-369d-418a-b23f-5b0292389bd5"
      },
      "source": [
        "#Complaint by city\n",
        "df['City'].value_counts().head(15).plot(kind='bar', alpha=0.6, figsize=(5,5))\n",
        "plt.show()"
      ],
      "execution_count": null,
      "outputs": [
        {
          "output_type": "display_data",
          "data": {
            "image/png": "[encoded data removed]",
            "text/plain": [
              "<Figure size 360x360 with 1 Axes>"
            ]
          },
          "metadata": {
            "tags": [],
            "needs_background": "light"
          }
        }
      ]
    },
    {
      "cell_type": "markdown",
      "metadata": {
        "id": "QUSu9DGf3Tpb"
      },
      "source": [
        "# Borough"
      ]
    },
    {
      "cell_type": "code",
      "metadata": {
        "id": "0FG-J9RC3Tpb",
        "colab": {
          "base_uri": "https://localhost:8080/"
        },
        "outputId": "4c2648ca-e507-49f6-a4dd-ac63398567fa"
      },
      "source": [
        "print(df['Borough'].value_counts())\n",
        "print(df['Borough'].unique())"
      ],
      "execution_count": null,
      "outputs": [
        {
          "output_type": "stream",
          "text": [
            "BROOKLYN         98307\n",
            "QUEENS           80641\n",
            "MANHATTAN        66131\n",
            "BRONX            40702\n",
            "STATEN ISLAND    12343\n",
            "Unspecified       2574\n",
            "Name: Borough, dtype: int64\n",
            "['MANHATTAN' 'QUEENS' 'BRONX' 'BROOKLYN' 'Unspecified' 'STATEN ISLAND']\n"
          ],
          "name": "stdout"
        }
      ]
    },
    {
      "cell_type": "code",
      "metadata": {
        "id": "26R5molV3Tpc",
        "colab": {
          "base_uri": "https://localhost:8080/",
          "height": 265
        },
        "outputId": "9502705b-09a9-4092-f90d-54df8f73aeaa"
      },
      "source": [
        "df['Borough'].value_counts().plot(kind='pie')"
      ],
      "execution_count": null,
      "outputs": [
        {
          "output_type": "execute_result",
          "data": {
            "text/plain": [
              "<matplotlib.axes._subplots.AxesSubplot at 0x7f3292ab31d0>"
            ]
          },
          "metadata": {
            "tags": []
          },
          "execution_count": 31
        },
        {
          "output_type": "display_data",
          "data": {
            "image/png": "[encoded data removed]",
            "text/plain": [
              "<Figure size 432x288 with 1 Axes>"
            ]
          },
          "metadata": {
            "tags": []
          }
        }
      ]
    },
    {
      "cell_type": "markdown",
      "metadata": {
        "id": "9ettmJ9B3Tpd"
      },
      "source": [
        "# Calculate Descriptor "
      ]
    },
    {
      "cell_type": "code",
      "metadata": {
        "id": "CPmfFM4w3Tpd",
        "colab": {
          "base_uri": "https://localhost:8080/"
        },
        "outputId": "7bd4a004-9c1a-41f1-f818-265e4ad96eb0"
      },
      "source": [
        "df['Descriptor'].value_counts()"
      ],
      "execution_count": null,
      "outputs": [
        {
          "output_type": "execute_result",
          "data": {
            "text/plain": [
              "Loud Music/Party                  61430\n",
              "No Access                         56976\n",
              "Posted Parking Sign Violation     22440\n",
              "Loud Talking                      21584\n",
              "Partial Access                    20068\n",
              "With License Plate                17718\n",
              "Blocked Hydrant                   16081\n",
              "Commercial Overnight Parking      12189\n",
              "Car/Truck Music                   11273\n",
              "Blocked Sidewalk                  11121\n",
              "Double Parked Blocking Traffic     5731\n",
              "Double Parked Blocking Vehicle     4211\n",
              "Engine Idling                      4189\n",
              "Banging/Pounding                   4165\n",
              "Neglected                          3787\n",
              "Car/Truck Horn                     3511\n",
              "Congestion/Gridlock                2761\n",
              "In Prohibited Area                 2025\n",
              "Other (complaint details)          1969\n",
              "Unlicensed                         1777\n",
              "Overnight Commercial Storage       1757\n",
              "Unauthorized Bus Layover           1367\n",
              "Truck Route Violation              1014\n",
              "In Public                           932\n",
              "Tortured                            854\n",
              "Vehicle                             590\n",
              "Chained                             535\n",
              "Detached Trailer                    464\n",
              "No Shelter                          382\n",
              "Chronic Stoplight Violation         280\n",
              "Underage - Licensed Est             271\n",
              "Chronic Speeding                    268\n",
              "In Car                              251\n",
              "Playing in Unsuitable Place         245\n",
              "Drag Racing                         175\n",
              "Loud Television                      93\n",
              "Police Report Requested              90\n",
              "After Hours - Licensed Est           77\n",
              "Building                             60\n",
              "Nuisance/Truant                      41\n",
              "Police Report Not Requested          23\n",
              "Language Access Complaint             6\n",
              "Homeless Issue                        1\n",
              "Disruptive Passenger                  1\n",
              "Animal Waste                          1\n",
              "Name: Descriptor, dtype: int64"
            ]
          },
          "metadata": {
            "tags": []
          },
          "execution_count": 32
        }
      ]
    },
    {
      "cell_type": "code",
      "metadata": {
        "id": "dxK-iuUa3Tpd",
        "colab": {
          "base_uri": "https://localhost:8080/",
          "height": 265
        },
        "outputId": "65cdac32-efab-44f8-e3b6-90560ee940dc"
      },
      "source": [
        "df['Descriptor'].value_counts().head(10).plot(kind='barh')\n",
        "plt.show()"
      ],
      "execution_count": null,
      "outputs": [
        {
          "output_type": "display_data",
          "data": {
            "image/png": "[encoded data removed]",
            "text/plain": [
              "<Figure size 432x288 with 1 Axes>"
            ]
          },
          "metadata": {
            "tags": [],
            "needs_background": "light"
          }
        }
      ]
    },
    {
      "cell_type": "markdown",
      "metadata": {
        "id": "UrV-r_D48nHB"
      },
      "source": [
        "# Complaint Per Location"
      ]
    },
    {
      "cell_type": "code",
      "metadata": {
        "id": "P0bNl_ag3Tpe"
      },
      "source": [
        "Complaint_Per_Location=df[['Unique Key','Location Type','Complaint Type']].groupby(by=['Location Type','Complaint Type'])"
      ],
      "execution_count": null,
      "outputs": []
    },
    {
      "cell_type": "code",
      "metadata": {
        "id": "c1cnNos33Tpe",
        "colab": {
          "base_uri": "https://localhost:8080/",
          "height": 450
        },
        "outputId": "51a2bdfd-535d-48a6-97fb-59061015d71c"
      },
      "source": [
        "Complaint_Per_Location.count()"
      ],
      "execution_count": null,
      "outputs": [
        {
          "output_type": "execute_result",
          "data": {
            "text/html": [
              "<div>\n",
              "<style scoped>\n",
              "    .dataframe tbody tr th:only-of-type {\n",
              "        vertical-align: middle;\n",
              "    }\n",
              "\n",
              "    .dataframe tbody tr th {\n",
              "        vertical-align: top;\n",
              "    }\n",
              "\n",
              "    .dataframe thead th {\n",
              "        text-align: right;\n",
              "    }\n",
              "</style>\n",
              "<table border=\"1\" class=\"dataframe\">\n",
              "  <thead>\n",
              "    <tr style=\"text-align: right;\">\n",
              "      <th></th>\n",
              "      <th></th>\n",
              "      <th>Unique Key</th>\n",
              "    </tr>\n",
              "    <tr>\n",
              "      <th>Location Type</th>\n",
              "      <th>Complaint Type</th>\n",
              "      <th></th>\n",
              "    </tr>\n",
              "  </thead>\n",
              "  <tbody>\n",
              "    <tr>\n",
              "      <th>Bridge</th>\n",
              "      <th>Homeless Encampment</th>\n",
              "      <td>2</td>\n",
              "    </tr>\n",
              "    <tr>\n",
              "      <th rowspan=\"3\" valign=\"top\">Club/Bar/Restaurant</th>\n",
              "      <th>Drinking</th>\n",
              "      <td>366</td>\n",
              "    </tr>\n",
              "    <tr>\n",
              "      <th>Noise - Commercial</th>\n",
              "      <td>16973</td>\n",
              "    </tr>\n",
              "    <tr>\n",
              "      <th>Urinating in Public</th>\n",
              "      <td>21</td>\n",
              "    </tr>\n",
              "    <tr>\n",
              "      <th>Commercial</th>\n",
              "      <th>Animal Abuse</th>\n",
              "      <td>62</td>\n",
              "    </tr>\n",
              "    <tr>\n",
              "      <th>...</th>\n",
              "      <th>...</th>\n",
              "      <td>...</td>\n",
              "    </tr>\n",
              "    <tr>\n",
              "      <th>Street/Sidewalk</th>\n",
              "      <th>Vending</th>\n",
              "      <td>3061</td>\n",
              "    </tr>\n",
              "    <tr>\n",
              "      <th rowspan=\"2\" valign=\"top\">Subway Station</th>\n",
              "      <th>Animal Abuse</th>\n",
              "      <td>22</td>\n",
              "    </tr>\n",
              "    <tr>\n",
              "      <th>Urinating in Public</th>\n",
              "      <td>12</td>\n",
              "    </tr>\n",
              "    <tr>\n",
              "      <th>Terminal</th>\n",
              "      <th>Ferry Complaint</th>\n",
              "      <td>1</td>\n",
              "    </tr>\n",
              "    <tr>\n",
              "      <th>Vacant Lot</th>\n",
              "      <th>Derelict Vehicle</th>\n",
              "      <td>77</td>\n",
              "    </tr>\n",
              "  </tbody>\n",
              "</table>\n",
              "<p>71 rows × 1 columns</p>\n",
              "</div>"
            ],
            "text/plain": [
              "                                         Unique Key\n",
              "Location Type       Complaint Type                 \n",
              "Bridge              Homeless Encampment           2\n",
              "Club/Bar/Restaurant Drinking                    366\n",
              "                    Noise - Commercial        16973\n",
              "                    Urinating in Public          21\n",
              "Commercial          Animal Abuse                 62\n",
              "...                                             ...\n",
              "Street/Sidewalk     Vending                    3061\n",
              "Subway Station      Animal Abuse                 22\n",
              "                    Urinating in Public          12\n",
              "Terminal            Ferry Complaint               1\n",
              "Vacant Lot          Derelict Vehicle             77\n",
              "\n",
              "[71 rows x 1 columns]"
            ]
          },
          "metadata": {
            "tags": []
          },
          "execution_count": 35
        }
      ]
    },
    {
      "cell_type": "code",
      "metadata": {
        "id": "uLOquTS33Tpe"
      },
      "source": [
        "df_count = Complaint_Per_Location.count()"
      ],
      "execution_count": null,
      "outputs": []
    },
    {
      "cell_type": "code",
      "metadata": {
        "id": "hRhn0-0a3Tpe"
      },
      "source": [
        "df_group = df_count.unstack()#.reset_index()"
      ],
      "execution_count": null,
      "outputs": []
    },
    {
      "cell_type": "code",
      "metadata": {
        "id": "fmfLUbxk3Tpf",
        "colab": {
          "base_uri": "https://localhost:8080/",
          "height": 523
        },
        "outputId": "c30550d2-ad58-4245-d0e6-ab9e8b039055"
      },
      "source": [
        "fig,ax = plt.subplots(figsize=(10,6))\n",
        "fig= df_group.plot(kind='bar',stacked=True,ax=ax)\n",
        "fig.legend(bbox_to_anchor=[1.05,1.05])\n",
        "plt.yscale('log')"
      ],
      "execution_count": null,
      "outputs": [
        {
          "output_type": "display_data",
          "data": {
            "image/png": "[encoded data removed]",
            "text/plain": [
              "<Figure size 720x432 with 1 Axes>"
            ]
          },
          "metadata": {
            "tags": [],
            "needs_background": "light"
          }
        }
      ]
    },
    {
      "cell_type": "markdown",
      "metadata": {
        "id": "G7Win0jS3Tpf"
      },
      "source": [
        "# Order the complaint types based on \n",
        "- the average ‘Request_Closing_Time’, grouping them for different locations"
      ]
    },
    {
      "cell_type": "code",
      "metadata": {
        "id": "YxCaTcot3Tpf"
      },
      "source": [
        "df_avg_time = df[['Complaint Type','Request_Closing_Time','City','Location Type']].groupby(by=['City','Location Type','Complaint Type','Request_Closing_Time'])"
      ],
      "execution_count": null,
      "outputs": []
    },
    {
      "cell_type": "code",
      "metadata": {
        "id": "O7DQaugP3Tpg",
        "colab": {
          "base_uri": "https://localhost:8080/",
          "height": 433
        },
        "outputId": "8a667ca7-c4b6-4290-8742-605e7116293b"
      },
      "source": [
        "df_avg_time.count()"
      ],
      "execution_count": null,
      "outputs": [
        {
          "output_type": "execute_result",
          "data": {
            "text/html": [
              "<div>\n",
              "<style scoped>\n",
              "    .dataframe tbody tr th:only-of-type {\n",
              "        vertical-align: middle;\n",
              "    }\n",
              "\n",
              "    .dataframe tbody tr th {\n",
              "        vertical-align: top;\n",
              "    }\n",
              "\n",
              "    .dataframe thead th {\n",
              "        text-align: right;\n",
              "    }\n",
              "</style>\n",
              "<table border=\"1\" class=\"dataframe\">\n",
              "  <thead>\n",
              "    <tr style=\"text-align: right;\">\n",
              "      <th></th>\n",
              "      <th></th>\n",
              "      <th></th>\n",
              "      <th></th>\n",
              "    </tr>\n",
              "    <tr>\n",
              "      <th>City</th>\n",
              "      <th>Location Type</th>\n",
              "      <th>Complaint Type</th>\n",
              "      <th>Request_Closing_Time</th>\n",
              "    </tr>\n",
              "  </thead>\n",
              "  <tbody>\n",
              "    <tr>\n",
              "      <th rowspan=\"5\" valign=\"top\">ARVERNE</th>\n",
              "      <th>Club/Bar/Restaurant</th>\n",
              "      <th>Drinking</th>\n",
              "      <th>0 days 00:14:19</th>\n",
              "    </tr>\n",
              "    <tr>\n",
              "      <th rowspan=\"4\" valign=\"top\">House of Worship</th>\n",
              "      <th rowspan=\"4\" valign=\"top\">Noise - House of Worship</th>\n",
              "      <th>0 days 00:12:58</th>\n",
              "    </tr>\n",
              "    <tr>\n",
              "      <th>0 days 00:34:00</th>\n",
              "    </tr>\n",
              "    <tr>\n",
              "      <th>0 days 00:51:08</th>\n",
              "    </tr>\n",
              "    <tr>\n",
              "      <th>0 days 00:57:31</th>\n",
              "    </tr>\n",
              "    <tr>\n",
              "      <th>...</th>\n",
              "      <th>...</th>\n",
              "      <th>...</th>\n",
              "      <th>...</th>\n",
              "    </tr>\n",
              "    <tr>\n",
              "      <th rowspan=\"5\" valign=\"top\">Woodside</th>\n",
              "      <th rowspan=\"5\" valign=\"top\">Street/Sidewalk</th>\n",
              "      <th rowspan=\"5\" valign=\"top\">Noise - Street/Sidewalk</th>\n",
              "      <th>0 days 02:53:05</th>\n",
              "    </tr>\n",
              "    <tr>\n",
              "      <th>0 days 03:02:25</th>\n",
              "    </tr>\n",
              "    <tr>\n",
              "      <th>0 days 03:06:00</th>\n",
              "    </tr>\n",
              "    <tr>\n",
              "      <th>0 days 03:10:00</th>\n",
              "    </tr>\n",
              "    <tr>\n",
              "      <th>0 days 04:51:53</th>\n",
              "    </tr>\n",
              "  </tbody>\n",
              "</table>\n",
              "<p>209433 rows × 0 columns</p>\n",
              "</div>"
            ],
            "text/plain": [
              "Empty DataFrame\n",
              "Columns: []\n",
              "Index: [(ARVERNE, Club/Bar/Restaurant, Drinking, 0 days 00:14:19), (ARVERNE, House of Worship, Noise - House of Worship, 0 days 00:12:58), (ARVERNE, House of Worship, Noise - House of Worship, 0 days 00:34:00), (ARVERNE, House of Worship, Noise - House of Worship, 0 days 00:51:08), (ARVERNE, House of Worship, Noise - House of Worship, 0 days 00:57:31), (ARVERNE, House of Worship, Noise - House of Worship, 0 days 01:22:00), (ARVERNE, House of Worship, Noise - House of Worship, 0 days 01:27:02), (ARVERNE, House of Worship, Noise - House of Worship, 0 days 01:31:58), (ARVERNE, House of Worship, Noise - House of Worship, 0 days 02:12:34), (ARVERNE, House of Worship, Noise - House of Worship, 0 days 02:20:40), (ARVERNE, House of Worship, Noise - House of Worship, 0 days 02:40:41), (ARVERNE, House of Worship, Noise - House of Worship, 0 days 03:00:31), (ARVERNE, Park/Playground, Noise - Park, 0 days 00:46:00), (ARVERNE, Park/Playground, Noise - Park, 0 days 01:48:00), (ARVERNE, Residential Building/House, Animal Abuse, 0 days 00:29:00), (ARVERNE, Residential Building/House, Animal Abuse, 0 days 00:41:00), (ARVERNE, Residential Building/House, Animal Abuse, 0 days 00:46:00), (ARVERNE, Residential Building/House, Animal Abuse, 0 days 00:51:09), (ARVERNE, Residential Building/House, Animal Abuse, 0 days 00:52:38), (ARVERNE, Residential Building/House, Animal Abuse, 0 days 00:53:26), (ARVERNE, Residential Building/House, Animal Abuse, 0 days 01:01:22), (ARVERNE, Residential Building/House, Animal Abuse, 0 days 01:07:51), (ARVERNE, Residential Building/House, Animal Abuse, 0 days 01:13:00), (ARVERNE, Residential Building/House, Animal Abuse, 0 days 01:19:00), (ARVERNE, Residential Building/House, Animal Abuse, 0 days 01:28:00), (ARVERNE, Residential Building/House, Animal Abuse, 0 days 01:35:52), (ARVERNE, Residential Building/House, Animal Abuse, 0 days 01:36:53), (ARVERNE, Residential Building/House, Animal Abuse, 0 days 01:37:16), (ARVERNE, Residential Building/House, Animal Abuse, 0 days 01:38:12), (ARVERNE, Residential Building/House, Animal Abuse, 0 days 01:42:00), (ARVERNE, Residential Building/House, Animal Abuse, 0 days 01:44:06), (ARVERNE, Residential Building/House, Animal Abuse, 0 days 01:57:18), (ARVERNE, Residential Building/House, Animal Abuse, 0 days 02:02:00), (ARVERNE, Residential Building/House, Animal Abuse, 0 days 02:07:21), (ARVERNE, Residential Building/House, Animal Abuse, 0 days 02:08:07), (ARVERNE, Residential Building/House, Animal Abuse, 0 days 02:17:38), (ARVERNE, Residential Building/House, Animal Abuse, 0 days 02:23:00), (ARVERNE, Residential Building/House, Animal Abuse, 0 days 02:29:00), (ARVERNE, Residential Building/House, Animal Abuse, 0 days 02:33:37), (ARVERNE, Residential Building/House, Animal Abuse, 0 days 02:40:13), (ARVERNE, Residential Building/House, Animal Abuse, 0 days 02:53:40), (ARVERNE, Residential Building/House, Animal Abuse, 0 days 02:53:57), (ARVERNE, Residential Building/House, Animal Abuse, 0 days 03:17:04), (ARVERNE, Residential Building/House, Animal Abuse, 0 days 03:18:00), (ARVERNE, Residential Building/House, Animal Abuse, 0 days 03:27:59), (ARVERNE, Residential Building/House, Animal Abuse, 0 days 03:30:53), (ARVERNE, Residential Building/House, Animal Abuse, 0 days 03:32:00), (ARVERNE, Residential Building/House, Animal Abuse, 0 days 03:41:00), (ARVERNE, Residential Building/House, Animal Abuse, 0 days 05:01:35), (ARVERNE, Residential Building/House, Homeless Encampment, 0 days 02:32:54), (ARVERNE, Store/Commercial, Graffiti, 0 days 01:32:00), (ARVERNE, Store/Commercial, Noise - Commercial, 0 days 01:30:37), (ARVERNE, Store/Commercial, Noise - Commercial, 0 days 03:03:51), (ARVERNE, Street/Sidewalk, Animal Abuse, 0 days 00:55:58), (ARVERNE, Street/Sidewalk, Animal Abuse, 0 days 01:35:00), (ARVERNE, Street/Sidewalk, Animal Abuse, 0 days 06:28:11), (ARVERNE, Street/Sidewalk, Blocked Driveway, 0 days 00:17:44), (ARVERNE, Street/Sidewalk, Blocked Driveway, 0 days 00:25:48), (ARVERNE, Street/Sidewalk, Blocked Driveway, 0 days 00:26:54), (ARVERNE, Street/Sidewalk, Blocked Driveway, 0 days 00:34:00), (ARVERNE, Street/Sidewalk, Blocked Driveway, 0 days 00:44:51), (ARVERNE, Street/Sidewalk, Blocked Driveway, 0 days 00:47:03), (ARVERNE, Street/Sidewalk, Blocked Driveway, 0 days 00:58:41), (ARVERNE, Street/Sidewalk, Blocked Driveway, 0 days 00:59:42), (ARVERNE, Street/Sidewalk, Blocked Driveway, 0 days 01:01:39), (ARVERNE, Street/Sidewalk, Blocked Driveway, 0 days 01:02:00), (ARVERNE, Street/Sidewalk, Blocked Driveway, 0 days 01:08:33), (ARVERNE, Street/Sidewalk, Blocked Driveway, 0 days 01:24:28), (ARVERNE, Street/Sidewalk, Blocked Driveway, 0 days 01:27:56), (ARVERNE, Street/Sidewalk, Blocked Driveway, 0 days 01:33:00), (ARVERNE, Street/Sidewalk, Blocked Driveway, 0 days 01:41:03), (ARVERNE, Street/Sidewalk, Blocked Driveway, 0 days 01:47:00), (ARVERNE, Street/Sidewalk, Blocked Driveway, 0 days 01:52:00), (ARVERNE, Street/Sidewalk, Blocked Driveway, 0 days 01:57:26), (ARVERNE, Street/Sidewalk, Blocked Driveway, 0 days 02:09:42), (ARVERNE, Street/Sidewalk, Blocked Driveway, 0 days 02:33:36), (ARVERNE, Street/Sidewalk, Blocked Driveway, 0 days 02:34:49), (ARVERNE, Street/Sidewalk, Blocked Driveway, 0 days 02:43:00), (ARVERNE, Street/Sidewalk, Blocked Driveway, 0 days 02:56:00), (ARVERNE, Street/Sidewalk, Blocked Driveway, 0 days 03:11:00), (ARVERNE, Street/Sidewalk, Blocked Driveway, 0 days 03:20:10), (ARVERNE, Street/Sidewalk, Blocked Driveway, 0 days 03:42:39), (ARVERNE, Street/Sidewalk, Blocked Driveway, 0 days 04:04:00), (ARVERNE, Street/Sidewalk, Blocked Driveway, 0 days 04:14:00), (ARVERNE, Street/Sidewalk, Blocked Driveway, 0 days 04:15:00), (ARVERNE, Street/Sidewalk, Blocked Driveway, 0 days 04:15:53), (ARVERNE, Street/Sidewalk, Blocked Driveway, 0 days 04:18:00), (ARVERNE, Street/Sidewalk, Blocked Driveway, 0 days 04:42:24), (ARVERNE, Street/Sidewalk, Blocked Driveway, 0 days 04:45:00), (ARVERNE, Street/Sidewalk, Blocked Driveway, 0 days 07:09:31), (ARVERNE, Street/Sidewalk, Blocked Driveway, 0 days 07:20:00), (ARVERNE, Street/Sidewalk, Derelict Vehicle, 0 days 00:28:00), (ARVERNE, Street/Sidewalk, Derelict Vehicle, 0 days 00:40:00), (ARVERNE, Street/Sidewalk, Derelict Vehicle, 0 days 00:42:18), (ARVERNE, Street/Sidewalk, Derelict Vehicle, 0 days 00:59:46), (ARVERNE, Street/Sidewalk, Derelict Vehicle, 0 days 01:07:31), (ARVERNE, Street/Sidewalk, Derelict Vehicle, 0 days 01:11:00), (ARVERNE, Street/Sidewalk, Derelict Vehicle, 0 days 01:40:30), (ARVERNE, Street/Sidewalk, Derelict Vehicle, 0 days 01:41:06), (ARVERNE, Street/Sidewalk, Derelict Vehicle, 0 days 01:50:54), ...]\n",
              "\n",
              "[209433 rows x 0 columns]"
            ]
          },
          "metadata": {
            "tags": []
          },
          "execution_count": 40
        }
      ]
    },
    {
      "cell_type": "code",
      "metadata": {
        "id": "XuNbID6t3Tpg",
        "colab": {
          "base_uri": "https://localhost:8080/",
          "height": 419
        },
        "outputId": "dd828797-58c7-44bc-f2f9-1496606c57a3"
      },
      "source": [
        "df_close_time=pd.DataFrame({'Total':df.groupby(['Complaint Type','Request_Closing_Time']).size()}).reset_index()\n",
        "df_close_time"
      ],
      "execution_count": null,
      "outputs": [
        {
          "output_type": "execute_result",
          "data": {
            "text/html": [
              "<div>\n",
              "<style scoped>\n",
              "    .dataframe tbody tr th:only-of-type {\n",
              "        vertical-align: middle;\n",
              "    }\n",
              "\n",
              "    .dataframe tbody tr th {\n",
              "        vertical-align: top;\n",
              "    }\n",
              "\n",
              "    .dataframe thead th {\n",
              "        text-align: right;\n",
              "    }\n",
              "</style>\n",
              "<table border=\"1\" class=\"dataframe\">\n",
              "  <thead>\n",
              "    <tr style=\"text-align: right;\">\n",
              "      <th></th>\n",
              "      <th>Complaint Type</th>\n",
              "      <th>Request_Closing_Time</th>\n",
              "      <th>Total</th>\n",
              "    </tr>\n",
              "  </thead>\n",
              "  <tbody>\n",
              "    <tr>\n",
              "      <th>0</th>\n",
              "      <td>Agency Issues</td>\n",
              "      <td>0 days 01:07:53</td>\n",
              "      <td>1</td>\n",
              "    </tr>\n",
              "    <tr>\n",
              "      <th>1</th>\n",
              "      <td>Agency Issues</td>\n",
              "      <td>0 days 02:42:16</td>\n",
              "      <td>1</td>\n",
              "    </tr>\n",
              "    <tr>\n",
              "      <th>2</th>\n",
              "      <td>Agency Issues</td>\n",
              "      <td>0 days 02:57:08</td>\n",
              "      <td>1</td>\n",
              "    </tr>\n",
              "    <tr>\n",
              "      <th>3</th>\n",
              "      <td>Agency Issues</td>\n",
              "      <td>0 days 06:51:26</td>\n",
              "      <td>1</td>\n",
              "    </tr>\n",
              "    <tr>\n",
              "      <th>4</th>\n",
              "      <td>Agency Issues</td>\n",
              "      <td>0 days 07:32:00</td>\n",
              "      <td>1</td>\n",
              "    </tr>\n",
              "    <tr>\n",
              "      <th>...</th>\n",
              "      <td>...</td>\n",
              "      <td>...</td>\n",
              "      <td>...</td>\n",
              "    </tr>\n",
              "    <tr>\n",
              "      <th>129915</th>\n",
              "      <td>Vending</td>\n",
              "      <td>2 days 04:01:28</td>\n",
              "      <td>1</td>\n",
              "    </tr>\n",
              "    <tr>\n",
              "      <th>129916</th>\n",
              "      <td>Vending</td>\n",
              "      <td>2 days 16:22:36</td>\n",
              "      <td>1</td>\n",
              "    </tr>\n",
              "    <tr>\n",
              "      <th>129917</th>\n",
              "      <td>Vending</td>\n",
              "      <td>2 days 17:11:00</td>\n",
              "      <td>1</td>\n",
              "    </tr>\n",
              "    <tr>\n",
              "      <th>129918</th>\n",
              "      <td>Vending</td>\n",
              "      <td>2 days 18:24:26</td>\n",
              "      <td>1</td>\n",
              "    </tr>\n",
              "    <tr>\n",
              "      <th>129919</th>\n",
              "      <td>Vending</td>\n",
              "      <td>3 days 04:55:28</td>\n",
              "      <td>1</td>\n",
              "    </tr>\n",
              "  </tbody>\n",
              "</table>\n",
              "<p>129920 rows × 3 columns</p>\n",
              "</div>"
            ],
            "text/plain": [
              "       Complaint Type Request_Closing_Time  Total\n",
              "0       Agency Issues      0 days 01:07:53      1\n",
              "1       Agency Issues      0 days 02:42:16      1\n",
              "2       Agency Issues      0 days 02:57:08      1\n",
              "3       Agency Issues      0 days 06:51:26      1\n",
              "4       Agency Issues      0 days 07:32:00      1\n",
              "...               ...                  ...    ...\n",
              "129915        Vending      2 days 04:01:28      1\n",
              "129916        Vending      2 days 16:22:36      1\n",
              "129917        Vending      2 days 17:11:00      1\n",
              "129918        Vending      2 days 18:24:26      1\n",
              "129919        Vending      3 days 04:55:28      1\n",
              "\n",
              "[129920 rows x 3 columns]"
            ]
          },
          "metadata": {
            "tags": []
          },
          "execution_count": 41
        }
      ]
    },
    {
      "cell_type": "code",
      "metadata": {
        "id": "qXNs520C3Tpg",
        "colab": {
          "base_uri": "https://localhost:8080/",
          "height": 419
        },
        "outputId": "967f9732-27d7-447c-da7a-751ef45e327d"
      },
      "source": [
        "ComplaintTypePerCity = pd.DataFrame({'Total':df.groupby(['Complaint Type','City']).size()}).reset_index()\n",
        "ComplaintTypePerCity"
      ],
      "execution_count": null,
      "outputs": [
        {
          "output_type": "execute_result",
          "data": {
            "text/html": [
              "<div>\n",
              "<style scoped>\n",
              "    .dataframe tbody tr th:only-of-type {\n",
              "        vertical-align: middle;\n",
              "    }\n",
              "\n",
              "    .dataframe tbody tr th {\n",
              "        vertical-align: top;\n",
              "    }\n",
              "\n",
              "    .dataframe thead th {\n",
              "        text-align: right;\n",
              "    }\n",
              "</style>\n",
              "<table border=\"1\" class=\"dataframe\">\n",
              "  <thead>\n",
              "    <tr style=\"text-align: right;\">\n",
              "      <th></th>\n",
              "      <th>Complaint Type</th>\n",
              "      <th>City</th>\n",
              "      <th>Total</th>\n",
              "    </tr>\n",
              "  </thead>\n",
              "  <tbody>\n",
              "    <tr>\n",
              "      <th>0</th>\n",
              "      <td>Animal Abuse</td>\n",
              "      <td>ARVERNE</td>\n",
              "      <td>38</td>\n",
              "    </tr>\n",
              "    <tr>\n",
              "      <th>1</th>\n",
              "      <td>Animal Abuse</td>\n",
              "      <td>ASTORIA</td>\n",
              "      <td>125</td>\n",
              "    </tr>\n",
              "    <tr>\n",
              "      <th>2</th>\n",
              "      <td>Animal Abuse</td>\n",
              "      <td>BAYSIDE</td>\n",
              "      <td>37</td>\n",
              "    </tr>\n",
              "    <tr>\n",
              "      <th>3</th>\n",
              "      <td>Animal Abuse</td>\n",
              "      <td>BELLEROSE</td>\n",
              "      <td>7</td>\n",
              "    </tr>\n",
              "    <tr>\n",
              "      <th>4</th>\n",
              "      <td>Animal Abuse</td>\n",
              "      <td>BREEZY POINT</td>\n",
              "      <td>2</td>\n",
              "    </tr>\n",
              "    <tr>\n",
              "      <th>...</th>\n",
              "      <td>...</td>\n",
              "      <td>...</td>\n",
              "      <td>...</td>\n",
              "    </tr>\n",
              "    <tr>\n",
              "      <th>759</th>\n",
              "      <td>Vending</td>\n",
              "      <td>STATEN ISLAND</td>\n",
              "      <td>25</td>\n",
              "    </tr>\n",
              "    <tr>\n",
              "      <th>760</th>\n",
              "      <td>Vending</td>\n",
              "      <td>SUNNYSIDE</td>\n",
              "      <td>15</td>\n",
              "    </tr>\n",
              "    <tr>\n",
              "      <th>761</th>\n",
              "      <td>Vending</td>\n",
              "      <td>WHITESTONE</td>\n",
              "      <td>1</td>\n",
              "    </tr>\n",
              "    <tr>\n",
              "      <th>762</th>\n",
              "      <td>Vending</td>\n",
              "      <td>WOODHAVEN</td>\n",
              "      <td>6</td>\n",
              "    </tr>\n",
              "    <tr>\n",
              "      <th>763</th>\n",
              "      <td>Vending</td>\n",
              "      <td>WOODSIDE</td>\n",
              "      <td>15</td>\n",
              "    </tr>\n",
              "  </tbody>\n",
              "</table>\n",
              "<p>764 rows × 3 columns</p>\n",
              "</div>"
            ],
            "text/plain": [
              "    Complaint Type           City  Total\n",
              "0     Animal Abuse        ARVERNE     38\n",
              "1     Animal Abuse        ASTORIA    125\n",
              "2     Animal Abuse        BAYSIDE     37\n",
              "3     Animal Abuse      BELLEROSE      7\n",
              "4     Animal Abuse   BREEZY POINT      2\n",
              "..             ...            ...    ...\n",
              "759        Vending  STATEN ISLAND     25\n",
              "760        Vending      SUNNYSIDE     15\n",
              "761        Vending     WHITESTONE      1\n",
              "762        Vending      WOODHAVEN      6\n",
              "763        Vending       WOODSIDE     15\n",
              "\n",
              "[764 rows x 3 columns]"
            ]
          },
          "metadata": {
            "tags": []
          },
          "execution_count": 42
        }
      ]
    },
    {
      "cell_type": "code",
      "metadata": {
        "id": "jKc9p71V3Tph",
        "colab": {
          "base_uri": "https://localhost:8080/"
        },
        "outputId": "57e5a52e-f0d8-4e58-a1f1-29038654c8c0"
      },
      "source": [
        "dfbcd=df.groupby(['Borough','Complaint Type','Descriptor']).size()\n",
        "dfbcd"
      ],
      "execution_count": null,
      "outputs": [
        {
          "output_type": "execute_result",
          "data": {
            "text/plain": [
              "Borough      Complaint Type         Descriptor               \n",
              "BRONX        Animal Abuse           Chained                      132\n",
              "                                    In Car                        36\n",
              "                                    Neglected                    673\n",
              "                                    No Shelter                    71\n",
              "                                    Other (complaint details)    311\n",
              "                                                                ... \n",
              "Unspecified  Noise - Vehicle        Engine Idling                 11\n",
              "             Posting Advertisement  Vehicle                        1\n",
              "             Traffic                Truck Route Violation          1\n",
              "             Vending                In Prohibited Area             2\n",
              "                                    Unlicensed                     5\n",
              "Length: 288, dtype: int64"
            ]
          },
          "metadata": {
            "tags": []
          },
          "execution_count": 43
        }
      ]
    },
    {
      "cell_type": "code",
      "metadata": {
        "id": "TZD_KYzN3Tph",
        "colab": {
          "base_uri": "https://localhost:8080/"
        },
        "outputId": "eb5a2efc-8492-4196-84a8-2f4befb4a375"
      },
      "source": [
        "df.columns"
      ],
      "execution_count": null,
      "outputs": [
        {
          "output_type": "execute_result",
          "data": {
            "text/plain": [
              "Index(['Unique Key', 'Created Date', 'Closed Date', 'Agency Name',\n",
              "       'Complaint Type', 'Descriptor', 'Location Type', 'Incident Zip',\n",
              "       'Incident Address', 'Street Name', 'Cross Street 1', 'Cross Street 2',\n",
              "       'Address Type', 'City', 'Facility Type', 'Status', 'Due Date',\n",
              "       'Resolution Description', 'Resolution Action Updated Date',\n",
              "       'Community Board', 'Borough', 'X Coordinate (State Plane)',\n",
              "       'Y Coordinate (State Plane)', 'Park Facility Name', 'Park Borough',\n",
              "       'School Name', 'School Number', 'School Region', 'School Code',\n",
              "       'School Phone Number', 'School Address', 'School City', 'School State',\n",
              "       'School Zip', 'School Not Found', 'Latitude', 'Longitude', 'Location',\n",
              "       'Request_Closing_Time', 'seconds_to_solve', 'hours_to_solve'],\n",
              "      dtype='object')"
            ]
          },
          "metadata": {
            "tags": []
          },
          "execution_count": 44
        }
      ]
    },
    {
      "cell_type": "code",
      "metadata": {
        "id": "wFRfkOFf3Tph",
        "colab": {
          "base_uri": "https://localhost:8080/",
          "height": 464
        },
        "outputId": "eb0ae30e-bf12-4644-ee33-9c19ee800e8e"
      },
      "source": [
        "#Have a look at the status of tickets\n",
        "df['Status'].value_counts().plot(kind='bar',alpha=0.6,figsize=(7,7))\n",
        "plt.show()"
      ],
      "execution_count": null,
      "outputs": [
        {
          "output_type": "display_data",
          "data": {
            "image/png": "[encoded data removed]",
            "text/plain": [
              "<Figure size 504x504 with 1 Axes>"
            ]
          },
          "metadata": {
            "tags": [],
            "needs_background": "light"
          }
        }
      ]
    },
    {
      "cell_type": "code",
      "metadata": {
        "id": "kpn6tgIP3Tph",
        "colab": {
          "base_uri": "https://localhost:8080/",
          "height": 359
        },
        "outputId": "26f173f8-3909-46ad-b30e-29c2dd962a77"
      },
      "source": [
        "majorComplaints=df.dropna(subset=[\"Complaint Type\"])\n",
        "majorComplaints=df.groupby(\"Complaint Type\")\n",
        "\n",
        "sortedComplaintType = majorComplaints.size().sort_values(ascending = False)\n",
        "sortedComplaintType = sortedComplaintType.to_frame('count').reset_index()\n",
        "\n",
        "sortedComplaintType.head(10)"
      ],
      "execution_count": null,
      "outputs": [
        {
          "output_type": "execute_result",
          "data": {
            "text/html": [
              "<div>\n",
              "<style scoped>\n",
              "    .dataframe tbody tr th:only-of-type {\n",
              "        vertical-align: middle;\n",
              "    }\n",
              "\n",
              "    .dataframe tbody tr th {\n",
              "        vertical-align: top;\n",
              "    }\n",
              "\n",
              "    .dataframe thead th {\n",
              "        text-align: right;\n",
              "    }\n",
              "</style>\n",
              "<table border=\"1\" class=\"dataframe\">\n",
              "  <thead>\n",
              "    <tr style=\"text-align: right;\">\n",
              "      <th></th>\n",
              "      <th>Complaint Type</th>\n",
              "      <th>count</th>\n",
              "    </tr>\n",
              "  </thead>\n",
              "  <tbody>\n",
              "    <tr>\n",
              "      <th>0</th>\n",
              "      <td>Blocked Driveway</td>\n",
              "      <td>77044</td>\n",
              "    </tr>\n",
              "    <tr>\n",
              "      <th>1</th>\n",
              "      <td>Illegal Parking</td>\n",
              "      <td>75361</td>\n",
              "    </tr>\n",
              "    <tr>\n",
              "      <th>2</th>\n",
              "      <td>Noise - Street/Sidewalk</td>\n",
              "      <td>48612</td>\n",
              "    </tr>\n",
              "    <tr>\n",
              "      <th>3</th>\n",
              "      <td>Noise - Commercial</td>\n",
              "      <td>35577</td>\n",
              "    </tr>\n",
              "    <tr>\n",
              "      <th>4</th>\n",
              "      <td>Derelict Vehicle</td>\n",
              "      <td>17718</td>\n",
              "    </tr>\n",
              "    <tr>\n",
              "      <th>5</th>\n",
              "      <td>Noise - Vehicle</td>\n",
              "      <td>17083</td>\n",
              "    </tr>\n",
              "    <tr>\n",
              "      <th>6</th>\n",
              "      <td>Animal Abuse</td>\n",
              "      <td>7778</td>\n",
              "    </tr>\n",
              "    <tr>\n",
              "      <th>7</th>\n",
              "      <td>Traffic</td>\n",
              "      <td>4498</td>\n",
              "    </tr>\n",
              "    <tr>\n",
              "      <th>8</th>\n",
              "      <td>Homeless Encampment</td>\n",
              "      <td>4416</td>\n",
              "    </tr>\n",
              "    <tr>\n",
              "      <th>9</th>\n",
              "      <td>Noise - Park</td>\n",
              "      <td>4042</td>\n",
              "    </tr>\n",
              "  </tbody>\n",
              "</table>\n",
              "</div>"
            ],
            "text/plain": [
              "            Complaint Type  count\n",
              "0         Blocked Driveway  77044\n",
              "1          Illegal Parking  75361\n",
              "2  Noise - Street/Sidewalk  48612\n",
              "3       Noise - Commercial  35577\n",
              "4         Derelict Vehicle  17718\n",
              "5          Noise - Vehicle  17083\n",
              "6             Animal Abuse   7778\n",
              "7                  Traffic   4498\n",
              "8      Homeless Encampment   4416\n",
              "9             Noise - Park   4042"
            ]
          },
          "metadata": {
            "tags": []
          },
          "execution_count": 46
        }
      ]
    },
    {
      "cell_type": "code",
      "metadata": {
        "id": "OXtk_LIe3Tpi",
        "colab": {
          "base_uri": "https://localhost:8080/",
          "height": 567
        },
        "outputId": "cf0de5c4-40aa-4ff2-c2ed-aa9a1cb35929"
      },
      "source": [
        "sortedComplaintType.head(10).plot(kind='bar',x='Complaint Type',alpha=0.6,figsize=(7,7))"
      ],
      "execution_count": null,
      "outputs": [
        {
          "output_type": "execute_result",
          "data": {
            "text/plain": [
              "<matplotlib.axes._subplots.AxesSubplot at 0x7f32928d73c8>"
            ]
          },
          "metadata": {
            "tags": []
          },
          "execution_count": 47
        },
        {
          "output_type": "display_data",
          "data": {
            "image/png": "[encoded data removed]",
            "text/plain": [
              "<Figure size 504x504 with 1 Axes>"
            ]
          },
          "metadata": {
            "tags": [],
            "needs_background": "light"
          }
        }
      ]
    },
    {
      "cell_type": "markdown",
      "metadata": {
        "id": "gb0P-ZCc0AlJ"
      },
      "source": [
        "# Draw complaints with scatter plot"
      ]
    },
    {
      "cell_type": "code",
      "metadata": {
        "colab": {
          "base_uri": "https://localhost:8080/",
          "height": 296
        },
        "id": "KUgYPwgnzAO8",
        "outputId": "a93a0e5e-a5db-4f2c-cb90-7b6d848b11c1"
      },
      "source": [
        "complaints=df\n",
        "complaints[['Complaint Type', 'Borough']]\n",
        "complaints.plot(kind='scatter', x='Longitude', y='Latitude')"
      ],
      "execution_count": null,
      "outputs": [
        {
          "output_type": "execute_result",
          "data": {
            "text/plain": [
              "<matplotlib.axes._subplots.AxesSubplot at 0x7f329280ac88>"
            ]
          },
          "metadata": {
            "tags": []
          },
          "execution_count": 48
        },
        {
          "output_type": "display_data",
          "data": {
            "image/png": "[encoded data removed]",
            "text/plain": [
              "<Figure size 432x288 with 1 Axes>"
            ]
          },
          "metadata": {
            "tags": [],
            "needs_background": "light"
          }
        }
      ]
    },
    {
      "cell_type": "code",
      "metadata": {
        "id": "Tx9I2CpfC_bk"
      },
      "source": [
        "\n",
        "df_g = complaints.groupby(['Borough', 'Complaint Type'])"
      ],
      "execution_count": null,
      "outputs": []
    },
    {
      "cell_type": "code",
      "metadata": {
        "colab": {
          "base_uri": "https://localhost:8080/"
        },
        "id": "dPUgUzaWDCUH",
        "outputId": "61a97afe-5fbc-441f-a5f0-fd4bfcdb5b3a"
      },
      "source": [
        "df_g.size()"
      ],
      "execution_count": null,
      "outputs": [
        {
          "output_type": "execute_result",
          "data": {
            "text/plain": [
              "Borough      Complaint Type           \n",
              "BRONX        Animal Abuse                  1415\n",
              "             Bike/Roller/Skate Chronic       20\n",
              "             Blocked Driveway             12755\n",
              "             Derelict Vehicle              1953\n",
              "             Disorderly Youth                63\n",
              "                                          ...  \n",
              "Unspecified  Noise - Vehicle                 54\n",
              "             Panhandling                      2\n",
              "             Posting Advertisement            1\n",
              "             Traffic                          1\n",
              "             Vending                          7\n",
              "Length: 119, dtype: int64"
            ]
          },
          "metadata": {
            "tags": []
          },
          "execution_count": 50
        }
      ]
    },
    {
      "cell_type": "code",
      "metadata": {
        "colab": {
          "base_uri": "https://localhost:8080/",
          "height": 450
        },
        "id": "Fco3KCMhD4MW",
        "outputId": "ebb5ffea-c4fc-426c-a10b-3222ccc5738a"
      },
      "source": [
        "df_g.size().to_frame()"
      ],
      "execution_count": null,
      "outputs": [
        {
          "output_type": "execute_result",
          "data": {
            "text/html": [
              "<div>\n",
              "<style scoped>\n",
              "    .dataframe tbody tr th:only-of-type {\n",
              "        vertical-align: middle;\n",
              "    }\n",
              "\n",
              "    .dataframe tbody tr th {\n",
              "        vertical-align: top;\n",
              "    }\n",
              "\n",
              "    .dataframe thead th {\n",
              "        text-align: right;\n",
              "    }\n",
              "</style>\n",
              "<table border=\"1\" class=\"dataframe\">\n",
              "  <thead>\n",
              "    <tr style=\"text-align: right;\">\n",
              "      <th></th>\n",
              "      <th></th>\n",
              "      <th>0</th>\n",
              "    </tr>\n",
              "    <tr>\n",
              "      <th>Borough</th>\n",
              "      <th>Complaint Type</th>\n",
              "      <th></th>\n",
              "    </tr>\n",
              "  </thead>\n",
              "  <tbody>\n",
              "    <tr>\n",
              "      <th rowspan=\"5\" valign=\"top\">BRONX</th>\n",
              "      <th>Animal Abuse</th>\n",
              "      <td>1415</td>\n",
              "    </tr>\n",
              "    <tr>\n",
              "      <th>Bike/Roller/Skate Chronic</th>\n",
              "      <td>20</td>\n",
              "    </tr>\n",
              "    <tr>\n",
              "      <th>Blocked Driveway</th>\n",
              "      <td>12755</td>\n",
              "    </tr>\n",
              "    <tr>\n",
              "      <th>Derelict Vehicle</th>\n",
              "      <td>1953</td>\n",
              "    </tr>\n",
              "    <tr>\n",
              "      <th>Disorderly Youth</th>\n",
              "      <td>63</td>\n",
              "    </tr>\n",
              "    <tr>\n",
              "      <th>...</th>\n",
              "      <th>...</th>\n",
              "      <td>...</td>\n",
              "    </tr>\n",
              "    <tr>\n",
              "      <th rowspan=\"5\" valign=\"top\">Unspecified</th>\n",
              "      <th>Noise - Vehicle</th>\n",
              "      <td>54</td>\n",
              "    </tr>\n",
              "    <tr>\n",
              "      <th>Panhandling</th>\n",
              "      <td>2</td>\n",
              "    </tr>\n",
              "    <tr>\n",
              "      <th>Posting Advertisement</th>\n",
              "      <td>1</td>\n",
              "    </tr>\n",
              "    <tr>\n",
              "      <th>Traffic</th>\n",
              "      <td>1</td>\n",
              "    </tr>\n",
              "    <tr>\n",
              "      <th>Vending</th>\n",
              "      <td>7</td>\n",
              "    </tr>\n",
              "  </tbody>\n",
              "</table>\n",
              "<p>119 rows × 1 columns</p>\n",
              "</div>"
            ],
            "text/plain": [
              "                                           0\n",
              "Borough     Complaint Type                  \n",
              "BRONX       Animal Abuse                1415\n",
              "            Bike/Roller/Skate Chronic     20\n",
              "            Blocked Driveway           12755\n",
              "            Derelict Vehicle            1953\n",
              "            Disorderly Youth              63\n",
              "...                                      ...\n",
              "Unspecified Noise - Vehicle               54\n",
              "            Panhandling                    2\n",
              "            Posting Advertisement          1\n",
              "            Traffic                        1\n",
              "            Vending                        7\n",
              "\n",
              "[119 rows x 1 columns]"
            ]
          },
          "metadata": {
            "tags": []
          },
          "execution_count": 51
        }
      ]
    },
    {
      "cell_type": "code",
      "metadata": {
        "colab": {
          "base_uri": "https://localhost:8080/",
          "height": 235
        },
        "id": "qVfGq2MeDHlo",
        "outputId": "a0bddc9b-0a33-4294-b2e1-0998be03173b"
      },
      "source": [
        "counts = df_g.size().to_frame()\n",
        "counts = counts.rename(columns={0 : \"Count\"})\n",
        "counts[:5]"
      ],
      "execution_count": null,
      "outputs": [
        {
          "output_type": "execute_result",
          "data": {
            "text/html": [
              "<div>\n",
              "<style scoped>\n",
              "    .dataframe tbody tr th:only-of-type {\n",
              "        vertical-align: middle;\n",
              "    }\n",
              "\n",
              "    .dataframe tbody tr th {\n",
              "        vertical-align: top;\n",
              "    }\n",
              "\n",
              "    .dataframe thead th {\n",
              "        text-align: right;\n",
              "    }\n",
              "</style>\n",
              "<table border=\"1\" class=\"dataframe\">\n",
              "  <thead>\n",
              "    <tr style=\"text-align: right;\">\n",
              "      <th></th>\n",
              "      <th></th>\n",
              "      <th>Count</th>\n",
              "    </tr>\n",
              "    <tr>\n",
              "      <th>Borough</th>\n",
              "      <th>Complaint Type</th>\n",
              "      <th></th>\n",
              "    </tr>\n",
              "  </thead>\n",
              "  <tbody>\n",
              "    <tr>\n",
              "      <th rowspan=\"5\" valign=\"top\">BRONX</th>\n",
              "      <th>Animal Abuse</th>\n",
              "      <td>1415</td>\n",
              "    </tr>\n",
              "    <tr>\n",
              "      <th>Bike/Roller/Skate Chronic</th>\n",
              "      <td>20</td>\n",
              "    </tr>\n",
              "    <tr>\n",
              "      <th>Blocked Driveway</th>\n",
              "      <td>12755</td>\n",
              "    </tr>\n",
              "    <tr>\n",
              "      <th>Derelict Vehicle</th>\n",
              "      <td>1953</td>\n",
              "    </tr>\n",
              "    <tr>\n",
              "      <th>Disorderly Youth</th>\n",
              "      <td>63</td>\n",
              "    </tr>\n",
              "  </tbody>\n",
              "</table>\n",
              "</div>"
            ],
            "text/plain": [
              "                                   Count\n",
              "Borough Complaint Type                  \n",
              "BRONX   Animal Abuse                1415\n",
              "        Bike/Roller/Skate Chronic     20\n",
              "        Blocked Driveway           12755\n",
              "        Derelict Vehicle            1953\n",
              "        Disorderly Youth              63"
            ]
          },
          "metadata": {
            "tags": []
          },
          "execution_count": 52
        }
      ]
    },
    {
      "cell_type": "markdown",
      "metadata": {
        "id": "ysTB2d4F3Tpi"
      },
      "source": [
        "# Hypothesis Testing"
      ]
    },
    {
      "cell_type": "markdown",
      "metadata": {
        "id": "dMsf9w7i3Tpi"
      },
      "source": [
        "### Whether the average response time across complaint types is similar or not (overall)?\n",
        "- H0: average response time across complaint types is similar \n",
        "    - Reject Null Hypothesis\n",
        "- H1: average response time across complaint types is not similar\n",
        "    - Fail to Reject Null Hypothesis"
      ]
    },
    {
      "cell_type": "code",
      "metadata": {
        "id": "DydYR5Sq3Tpj",
        "colab": {
          "base_uri": "https://localhost:8080/"
        },
        "outputId": "bd6e0b44-3ea8-460d-bfd4-533f52063928"
      },
      "source": [
        "avg_Response_Time=np.mean(df['hours_to_solve'])\n",
        "print(avg_Response_Time)"
      ],
      "execution_count": null,
      "outputs": [
        {
          "output_type": "stream",
          "text": [
            "3.929396621862499\n"
          ],
          "name": "stdout"
        }
      ]
    },
    {
      "cell_type": "code",
      "metadata": {
        "id": "hEZFtU7V3Tpj",
        "colab": {
          "base_uri": "https://localhost:8080/"
        },
        "outputId": "76dff305-4cec-4712-82a2-cb4d85a4cebe"
      },
      "source": [
        "!pip install scipy"
      ],
      "execution_count": null,
      "outputs": [
        {
          "output_type": "stream",
          "text": [
            "Requirement already satisfied: scipy in /usr/local/lib/python3.6/dist-packages (1.4.1)\n",
            "Requirement already satisfied: numpy>=1.13.3 in /usr/local/lib/python3.6/dist-packages (from scipy) (1.19.5)\n"
          ],
          "name": "stdout"
        }
      ]
    },
    {
      "cell_type": "code",
      "metadata": {
        "id": "-EqzvROy3Tpj",
        "colab": {
          "base_uri": "https://localhost:8080/"
        },
        "outputId": "41b1f173-742a-4c48-eba7-6d386f0626af"
      },
      "source": [
        "!pip install statsmodels"
      ],
      "execution_count": null,
      "outputs": [
        {
          "output_type": "stream",
          "text": [
            "Requirement already satisfied: statsmodels in /usr/local/lib/python3.6/dist-packages (0.10.2)\n",
            "Requirement already satisfied: scipy>=0.18 in /usr/local/lib/python3.6/dist-packages (from statsmodels) (1.4.1)\n",
            "Requirement already satisfied: numpy>=1.11 in /usr/local/lib/python3.6/dist-packages (from statsmodels) (1.19.5)\n",
            "Requirement already satisfied: patsy>=0.4.0 in /usr/local/lib/python3.6/dist-packages (from statsmodels) (0.5.1)\n",
            "Requirement already satisfied: pandas>=0.19 in /usr/local/lib/python3.6/dist-packages (from statsmodels) (1.1.5)\n",
            "Requirement already satisfied: six in /usr/local/lib/python3.6/dist-packages (from patsy>=0.4.0->statsmodels) (1.15.0)\n",
            "Requirement already satisfied: python-dateutil>=2.7.3 in /usr/local/lib/python3.6/dist-packages (from pandas>=0.19->statsmodels) (2.8.1)\n",
            "Requirement already satisfied: pytz>=2017.2 in /usr/local/lib/python3.6/dist-packages (from pandas>=0.19->statsmodels) (2018.9)\n"
          ],
          "name": "stdout"
        }
      ]
    },
    {
      "cell_type": "code",
      "metadata": {
        "id": "s_VdwrxI3Tpk",
        "colab": {
          "base_uri": "https://localhost:8080/"
        },
        "outputId": "9851ebce-6a91-4a96-dafd-3b46cac8e173"
      },
      "source": [
        "from scipy.stats import ttest_1samp\n",
        "import numpy as np\n",
        "\n",
        "dd=df['hours_to_solve']\n",
        "\n",
        "ages_mean = np.mean(dd)\n",
        "\n",
        "tset, pval = ttest_1samp(dd, ages_mean)\n",
        "\n",
        "if pval < 0.05:    # alpha value is 0.05 or 5%\n",
        "   print(\"Average response time across complaint types is similar\")\n",
        "else:\n",
        "  print(\"Average response time across complaint types is not similar\")"
      ],
      "execution_count": null,
      "outputs": [
        {
          "output_type": "stream",
          "text": [
            "Average response time across complaint types is not similar\n"
          ],
          "name": "stdout"
        }
      ]
    },
    {
      "cell_type": "markdown",
      "metadata": {
        "id": "V-FZDfv43Tpk"
      },
      "source": [
        "#### We reject null hypothesis hence \n",
        "**Average response time across complaint types is not similar**"
      ]
    },
    {
      "cell_type": "markdown",
      "metadata": {
        "id": "No-NxuGV3Tpk"
      },
      "source": [
        "# 2. Hypothesis Testing \n",
        "### Question- Are the type of complaint or service requested and location related?"
      ]
    },
    {
      "cell_type": "markdown",
      "metadata": {
        "id": "SdOEYqnz3Tpl"
      },
      "source": [
        "Whether the average response time across complaint types is similar or not (overall)?\n",
        "\n",
        "**H0: type of complaint or service requested and location related \n",
        "similar Reject Null Hypothesis or no association**\n",
        "  i.e if alpha > 0.05\n",
        "\n",
        "**H1: type of complaint or service requested and location related \n",
        "similar Fail to Reject Null Hypothesis or  association**\n",
        "  i.e if alpha < 0.05"
      ]
    },
    {
      "cell_type": "code",
      "metadata": {
        "id": "NVk_Bfsswfj7"
      },
      "source": [
        "#  Chi-Squared Test\n",
        "from scipy.stats import chi2_contingency"
      ],
      "execution_count": null,
      "outputs": []
    },
    {
      "cell_type": "code",
      "metadata": {
        "colab": {
          "base_uri": "https://localhost:8080/"
        },
        "id": "gd0BZLji7I12",
        "outputId": "92e777e8-4c50-434b-e4bb-28d4c71485d3"
      },
      "source": [
        "df_chi = df\n",
        "contingency_table=pd.crosstab(df_chi[\"Complaint Type\"],df_chi[\"Location Type\"])\n",
        "print('contingency_table :-\\n',contingency_table)\n"
      ],
      "execution_count": null,
      "outputs": [
        {
          "output_type": "stream",
          "text": [
            "contingency_table :-\n",
            " Location Type              Bridge  Club/Bar/Restaurant  ...  Terminal  Vacant Lot\n",
            "Complaint Type                                          ...                      \n",
            "Animal Abuse                    0                    0  ...         0           0\n",
            "Animal in a Park                0                    0  ...         0           0\n",
            "Bike/Roller/Skate Chronic       0                    0  ...         0           0\n",
            "Blocked Driveway                0                    0  ...         0           0\n",
            "Derelict Vehicle                0                    0  ...         0          77\n",
            "Disorderly Youth                0                    0  ...         0           0\n",
            "Drinking                        0                  366  ...         0           0\n",
            "Ferry Complaint                 0                    0  ...         1           0\n",
            "Graffiti                        0                    0  ...         0           0\n",
            "Homeless Encampment             2                    0  ...         0           0\n",
            "Illegal Fireworks               0                    0  ...         0           0\n",
            "Illegal Parking                 0                    0  ...         0           0\n",
            "Noise - Commercial              0                16973  ...         0           0\n",
            "Noise - House of Worship        0                    0  ...         0           0\n",
            "Noise - Park                    0                    0  ...         0           0\n",
            "Noise - Street/Sidewalk         0                    0  ...         0           0\n",
            "Noise - Vehicle                 0                    0  ...         0           0\n",
            "Panhandling                     0                    0  ...         0           0\n",
            "Posting Advertisement           0                    0  ...         0           0\n",
            "Squeegee                        0                    0  ...         0           0\n",
            "Traffic                         0                    0  ...         0           0\n",
            "Urinating in Public             0                   21  ...         0           0\n",
            "Vending                         0                    0  ...         0           0\n",
            "\n",
            "[23 rows x 18 columns]\n"
          ],
          "name": "stdout"
        }
      ]
    },
    {
      "cell_type": "code",
      "metadata": {
        "id": "mooVfVy_9bzA"
      },
      "source": [
        "import scipy\n",
        "from scipy.stats import chi2"
      ],
      "execution_count": null,
      "outputs": []
    },
    {
      "cell_type": "code",
      "metadata": {
        "colab": {
          "base_uri": "https://localhost:8080/"
        },
        "id": "Sjian4PU9MRF",
        "outputId": "d62d0c70-654f-40d1-f61a-88361aafca24"
      },
      "source": [
        "!pip install stats"
      ],
      "execution_count": null,
      "outputs": [
        {
          "output_type": "stream",
          "text": [
            "Requirement already satisfied: stats in /usr/local/lib/python3.6/dist-packages (0.1.2a0)\n"
          ],
          "name": "stdout"
        }
      ]
    },
    {
      "cell_type": "code",
      "metadata": {
        "colab": {
          "base_uri": "https://localhost:8080/"
        },
        "id": "5_PbrO0z7wEf",
        "outputId": "0093aeea-b414-4a79-927f-045ac1671a0a"
      },
      "source": [
        "#from scipy.stats import chi2_contingency\n",
        "#Observed Values\n",
        "Observed_Values = contingency_table.values \n",
        "print(\"Observed Values :-\\n\",Observed_Values)"
      ],
      "execution_count": null,
      "outputs": [
        {
          "output_type": "stream",
          "text": [
            "Observed Values :-\n",
            " [[    0     0    62     0     0    93     0     0   123   110   227  5085\n",
            "      0   522  1531    22     0     0]\n",
            " [    0     0     0     0     0     0     0     1     0     0     0     0\n",
            "      0     0     0     0     0     0]\n",
            " [    0     0     0     0     0     0     0     0     0     0     0    26\n",
            "      0    53   348     0     0     0]\n",
            " [    0     0     0     0     0     0     0     0     0     0     0     0\n",
            "      0     0 77007     0     0     0]\n",
            " [    0     0     0     0    14     0     0     0     0     0     0     0\n",
            "      5     0 17614     0     0    77]\n",
            " [    0     0     0     0     0     0     0     0     0     0     0    77\n",
            "      0     8   201     0     0     0]\n",
            " [    0   366     0     0     0     0     0     0    98     0     0   291\n",
            "      0    90   434     0     0     0]\n",
            " [    0     0     0     1     0     0     0     0     0     0     0     0\n",
            "      0     0     0     0     1     0]\n",
            " [    0     0     0     0     0     0     0     0     0     0     0    56\n",
            "      0    32    25     0     0     0]\n",
            " [    2     0     0     0    15     0     0     0   353     0     0   983\n",
            "      1   512  2541     0     0     0]\n",
            " [    0     0     0     0     0     0     0     0     8     0     0    33\n",
            "      0     2   125     0     0     0]\n",
            " [    0     0     0     0     0     0     0     0     0     0     0     0\n",
            "      0     0 75326     0     0     0]\n",
            " [    0 16973     0     0     0     0     0     0     0     0     0     0\n",
            "      0 18598     0     0     0     0]\n",
            " [    0     0     0     0     0     0   929     0     0     0     0     0\n",
            "      0     0     0     0     0     0]\n",
            " [    0     0     0     0     0     0     0     0  4041     0     0     0\n",
            "      0     0     0     0     0     0]\n",
            " [    0     0     0     0     0     0     0     0     0     0     0     0\n",
            "      0     0 48601     0     0     0]\n",
            " [    0     0     0     0     0     0     0     0     0     0     0     0\n",
            "      0     0 17080     0     0     0]\n",
            " [    0     0     0     0     0     0     0     0     6     0     0    16\n",
            "      0    60   225     0     0     0]\n",
            " [    0     0     0     0     0     0     0     0     0     7     0    54\n",
            "      0     6   582     0     0     0]\n",
            " [    0     0     0     0     0     0     0     0     0     0     0     0\n",
            "      0     0     4     0     0     0]\n",
            " [    0     0     0     0   186     0     0     0     0     0     0     0\n",
            "     29     0  4278     0     0     0]\n",
            " [    0    21     0     0     0     0     0     0    38     0     0   138\n",
            "      0    66   316    12     0     0]\n",
            " [    0     0     0     0     0     0     0     0   106     0     0   201\n",
            "      0   432  3061     0     0     0]]\n"
          ],
          "name": "stdout"
        }
      ]
    },
    {
      "cell_type": "code",
      "metadata": {
        "id": "CcYE4XnP-Svd"
      },
      "source": [
        "g, p, dof, expctd=chi2_contingency(contingency_table)\n",
        "#b=stats.chi2_contingency(contingency_table)"
      ],
      "execution_count": null,
      "outputs": []
    },
    {
      "cell_type": "code",
      "metadata": {
        "colab": {
          "base_uri": "https://localhost:8080/"
        },
        "id": "ZRODJc3-7wWz",
        "outputId": "714165d3-d966-40eb-a714-369505678861"
      },
      "source": [
        "Expected_Values = expctd\n",
        "print(\"Expected Values :-\\n\",Expected_Values)"
      ],
      "execution_count": null,
      "outputs": [
        {
          "output_type": "stream",
          "text": [
            "Expected Values :-\n",
            " [[5.17355531e-02 4.49064601e+02 1.60380215e+00 2.58677766e-02\n",
            "  5.56157196e+00 2.40570322e+00 2.40311644e+01 2.58677766e-02\n",
            "  1.23466898e+02 3.02652986e+00 5.87198528e+00 1.80039725e+02\n",
            "  9.05372180e-01 5.27211154e+02 6.44881083e+03 8.79504403e-01\n",
            "  2.58677766e-02 1.99181880e+00]\n",
            " [6.65409044e-06 5.77575050e-02 2.06276804e-04 3.32704522e-06\n",
            "  7.15314722e-04 3.09415205e-04 3.09082501e-03 3.32704522e-06\n",
            "  1.58799868e-02 3.89264290e-04 7.55239264e-04 2.31562347e-02\n",
            "  1.16446583e-04 6.78085086e-02 8.29429046e-01 1.13119537e-04\n",
            "  3.32704522e-06 2.56182482e-04]\n",
            " [2.84129662e-03 2.46624546e+01 8.80801951e-02 1.42064831e-03\n",
            "  3.05439386e-01 1.32120293e-01 1.31978228e+00 1.42064831e-03\n",
            "  6.78075437e+00 1.66215852e-01 3.22487166e-01 9.88771222e+00\n",
            "  4.97226908e-02 2.89542332e+01 3.54166203e+02 4.83020425e-02\n",
            "  1.42064831e-03 1.09389920e-01]\n",
            " [5.12411542e-01 4.44773219e+03 1.58847578e+01 2.56205771e-01\n",
            "  5.50842408e+01 2.38271367e+01 2.38015161e+02 2.56205771e-01\n",
            "  1.22287015e+03 2.99760752e+01 5.81587100e+01 1.78319217e+03\n",
            "  8.96720199e+00 5.22172982e+03 6.38718425e+04 8.71099622e+00\n",
            "  2.56205771e-01 1.97278444e+01]\n",
            " [1.17843942e-01 1.02288541e+03 3.65316219e+00 5.89219708e-02\n",
            "  1.26682237e+01 5.47974329e+00 5.47385109e+01 5.89219708e-02\n",
            "  2.81234567e+02 6.89387058e+00 1.33752874e+01 4.10096917e+02\n",
            "  2.06226898e+00 1.20088869e+03 1.46891884e+04 2.00334701e+00\n",
            "  5.89219708e-02 4.53699175e+00]\n",
            " [1.90306986e-03 1.65186464e+01 5.89951658e-02 9.51534932e-04\n",
            "  2.04580010e-01 8.84927487e-02 8.83975952e-01 9.51534932e-04\n",
            "  4.54167623e+00 1.11329587e-01 2.15998430e-01 6.62268313e+00\n",
            "  3.33037226e-02 1.93932335e+01 2.37216707e+02 3.23521877e-02\n",
            "  9.51534932e-04 7.32681898e-02]\n",
            " [8.51058167e-03 7.38718489e+01 2.63828032e-01 4.25529083e-03\n",
            "  9.14887529e-01 3.95742048e-01 3.95316518e+00 4.25529083e-03\n",
            "  2.03105031e+01 4.97869028e-01 9.65951019e-01 2.96168242e+01\n",
            "  1.48935179e-01 8.67270825e+01 1.06083975e+03 1.44679888e-01\n",
            "  4.25529083e-03 3.27657394e-01]\n",
            " [1.33081809e-05 1.15515010e-01 4.12553607e-04 6.65409044e-06\n",
            "  1.43062944e-03 6.18830411e-04 6.18165001e-03 6.65409044e-06\n",
            "  3.17599736e-02 7.78528581e-04 1.51047853e-03 4.63124694e-02\n",
            "  2.32893165e-04 1.35617017e-01 1.65885809e+00 2.26239075e-04\n",
            "  6.65409044e-06 5.12364964e-04]\n",
            " [7.51912219e-04 6.52659806e+00 2.33092788e-02 3.75956110e-04\n",
            "  8.08305636e-02 3.49639182e-02 3.49263226e-01 3.75956110e-04\n",
            "  1.79443851e+00 4.39868648e-02 8.53420369e-02 2.61665452e+00\n",
            "  1.31584638e-02 7.66236147e+00 9.37254822e+01 1.27825077e-02\n",
            "  3.75956110e-04 2.89486204e-02]\n",
            " [2.93245766e-02 2.54537324e+02 9.09061873e-01 1.46622883e-02\n",
            "  3.15239198e+00 1.36359281e+00 1.36212658e+01 1.46622883e-02\n",
            "  6.99831019e+01 1.71548773e+00 3.32833944e+00 1.02049526e+02\n",
            "  5.13180090e-01 2.98832097e+02 3.65529380e+03 4.98517801e-01\n",
            "  1.46622883e-02 1.12899620e+00]\n",
            " [1.11788719e-03 9.70326084e+00 3.46545030e-02 5.58943597e-04\n",
            "  1.20172873e-01 5.19817545e-02 5.19258601e-01 5.58943597e-04\n",
            "  2.66783779e+00 6.53964008e-02 1.26880196e-01 3.89024743e+00\n",
            "  1.95630259e-02 1.13918294e+01 1.39344080e+02 1.90040823e-02\n",
            "  5.58943597e-04 4.30386569e-02]\n",
            " [5.01226016e-01 4.35064182e+03 1.55380065e+01 2.50613008e-01\n",
            "  5.38817967e+01 2.33070098e+01 2.32819485e+02 2.50613008e-01\n",
            "  1.19617589e+03 2.93217219e+01 5.68891528e+01 1.74426654e+03\n",
            "  8.77145528e+00 5.10774372e+03 6.24775723e+04 8.52084227e+00\n",
            "  2.50613008e-01 1.92972016e+01]\n",
            " [2.36692651e-01 2.05449221e+03 7.33747218e+00 1.18346325e-01\n",
            "  2.54444600e+01 1.10062083e+01 1.09943736e+02 1.18346325e-01\n",
            "  5.64867011e+02 1.38465201e+01 2.68646159e+01 8.23690425e+02\n",
            "  4.14212139e+00 2.41201646e+03 2.95036206e+04 4.02377507e+00\n",
            "  1.18346325e-01 9.11266706e+00]\n",
            " [6.18165001e-03 5.36567221e+01 1.91631150e-01 3.09082501e-03\n",
            "  6.64527377e-01 2.87446726e-01 2.87137643e+00 3.09082501e-03\n",
            "  1.47525078e+01 3.61626526e-01 7.01617277e-01 2.15121421e+01\n",
            "  1.08178875e-01 6.29941045e+01 7.70539584e+02 1.05088050e-01\n",
            "  3.09082501e-03 2.37993526e-01]\n",
            " [2.68891795e-02 2.33398078e+02 8.33564563e-01 1.34445897e-02\n",
            "  2.89058679e+00 1.25034684e+00 1.24900239e+01 1.34445897e-02\n",
            "  6.41710268e+01 1.57301700e+00 3.05192187e+00 9.35743445e+01\n",
            "  4.70560640e-01 2.74014183e+02 3.35172277e+03 4.57116051e-01\n",
            "  1.34445897e-02 1.03523341e+00]\n",
            " [3.23395449e-01 2.80707250e+03 1.00252589e+01 1.61697725e-01\n",
            "  3.47650108e+01 1.50378884e+01 1.50217186e+02 1.61697725e-01\n",
            "  7.71783240e+02 1.89186338e+01 3.67053835e+01 1.12541616e+03\n",
            "  5.65942036e+00 3.29556133e+03 4.03110811e+04 5.49772264e+00\n",
            "  1.61697725e-01 1.24507248e+01]\n",
            " [1.13651865e-01 9.86498185e+02 3.52320780e+00 5.68259323e-02\n",
            "  1.22175754e+01 5.28481171e+00 5.27912911e+01 5.68259323e-02\n",
            "  2.71230175e+02 6.64863408e+00 1.28994866e+01 3.95508489e+02\n",
            "  1.98890763e+00 1.15816933e+03 1.41666481e+04 1.93208170e+00\n",
            "  5.68259323e-02 4.37559679e+00]\n",
            " [2.04280576e-03 1.77315540e+01 6.33269787e-02 1.02140288e-03\n",
            "  2.19601620e-01 9.49904680e-02 9.48883277e-01 1.02140288e-03\n",
            "  4.87515596e+00 1.19504137e-01 2.31858454e-01 7.10896406e+00\n",
            "  3.57491009e-02 2.08172121e+01 2.54634717e+02 3.47276980e-02\n",
            "  1.02140288e-03 7.86480219e-02]\n",
            " [4.31850469e-03 3.74846207e+01 1.33873645e-01 2.15925235e-03\n",
            "  4.64239254e-01 2.00810468e-01 2.00594543e+00 2.15925235e-03\n",
            "  1.03061114e+01 2.52632525e-01 4.90150283e-01 1.50283963e+01\n",
            "  7.55738321e-02 4.40077221e+01 5.38299451e+02 7.34145798e-02\n",
            "  2.15925235e-03 1.66262431e-01]\n",
            " [2.66163617e-05 2.31030020e-01 8.25107214e-04 1.33081809e-05\n",
            "  2.86125889e-03 1.23766082e-03 1.23633000e-02 1.33081809e-05\n",
            "  6.35199473e-02 1.55705716e-03 3.02095706e-03 9.26249389e-02\n",
            "  4.65786331e-04 2.71234034e-01 3.31771618e+00 4.52478150e-04\n",
            "  1.33081809e-05 1.02472993e-03]\n",
            " [2.98968283e-02 2.59504470e+02 9.26801678e-01 1.49484142e-02\n",
            "  3.21390905e+00 1.39020252e+00 1.38870768e+01 1.49484142e-02\n",
            "  7.13487808e+01 1.74896446e+00 3.39329002e+00 1.04040963e+02\n",
            "  5.23194496e-01 3.04663629e+02 3.72662470e+03 5.08246082e-01\n",
            "  1.49484142e-02 1.15102789e+00]\n",
            " [3.93256745e-03 3.41346854e+01 1.21909591e-01 1.96628372e-03\n",
            "  4.22751001e-01 1.82864386e-01 1.82667758e+00 1.96628372e-03\n",
            "  9.38507221e+00 2.30055196e-01 4.46346405e-01 1.36853347e+01\n",
            "  6.88199303e-02 4.00748286e+01 4.90192566e+02 6.68536466e-02\n",
            "  1.96628372e-03 1.51403847e-01]\n",
            " [2.52855437e-02 2.19478519e+02 7.83851853e-01 1.26427718e-02\n",
            "  2.71819594e+00 1.17577778e+00 1.17451350e+01 1.26427718e-02\n",
            "  6.03439499e+01 1.47920430e+00 2.86990920e+00 8.79936919e+01\n",
            "  4.42497014e-01 2.57672333e+02 3.15183037e+03 4.29854242e-01\n",
            "  1.26427718e-02 9.73493431e-01]]\n"
          ],
          "name": "stdout"
        }
      ]
    },
    {
      "cell_type": "code",
      "metadata": {
        "colab": {
          "base_uri": "https://localhost:8080/"
        },
        "id": "bUOEvvTvByd9",
        "outputId": "12f00088-485e-47d3-ff0a-66722d3a04ec"
      },
      "source": [
        "no_of_rows=len(contingency_table.iloc[0:2,0])\n",
        "no_of_columns=len(contingency_table.iloc[0,0:2])\n",
        "ddof=(no_of_rows-1)*(no_of_columns-1)\n",
        "print(\"Degree of Freedom:-\",ddof)\n",
        "alpha = 0.05\n"
      ],
      "execution_count": null,
      "outputs": [
        {
          "output_type": "stream",
          "text": [
            "Degree of Freedom:- 1\n"
          ],
          "name": "stdout"
        }
      ]
    },
    {
      "cell_type": "code",
      "metadata": {
        "colab": {
          "base_uri": "https://localhost:8080/"
        },
        "id": "vFhpw6grBzLi",
        "outputId": "ddc28aaf-76ae-46c9-fb84-124d7a364590"
      },
      "source": [
        "from scipy.stats import chi2\n",
        "chi_square=sum([(o-e)**2./e for o,e in zip(Observed_Values,Expected_Values)])\n",
        "chi_square_statistic=chi_square[0]+chi_square[1]\n",
        "print(\"chi-square statistic:-\",chi_square_statistic)\n",
        "critical_value=chi2.ppf(q=1-alpha,df=ddof)\n",
        "print('critical_value:',critical_value)\n",
        "#p-value\n",
        "p_value=1-chi2.cdf(x=chi_square_statistic,df=ddof)\n",
        "print('p-value:',p_value)\n",
        "print('Significance level: ',alpha)\n",
        "print('Degree of Freedom: ',ddof)\n",
        "print('chi-square statistic:',chi_square_statistic)\n",
        "print('critical_value:',critical_value)\n",
        "print('p-value:',p_value)\n",
        "if chi_square_statistic>=critical_value:\n",
        "    print(\"Reject H0,There is a relationship between 2 categorical variables\")\n",
        "else:\n",
        "    print(\"Retain H0,There is no relationship between 2 categorical variables\")\n",
        "    \n",
        "if p_value<=alpha:\n",
        "    print(\"Reject H0,There is a relationship between 2 categorical variables\")\n",
        "else:\n",
        "    print(\"Retain H0,There is no relationship between 2 categorical variables\")"
      ],
      "execution_count": null,
      "outputs": [
        {
          "output_type": "stream",
          "text": [
            "chi-square statistic:- 124821.57169248095\n",
            "critical_value: 3.841458820694124\n",
            "p-value: 0.0\n",
            "Significance level:  0.05\n",
            "Degree of Freedom:  1\n",
            "chi-square statistic: 124821.57169248095\n",
            "critical_value: 3.841458820694124\n",
            "p-value: 0.0\n",
            "Reject H0,There is a relationship between 2 categorical variables\n",
            "Reject H0,There is a relationship between 2 categorical variables\n"
          ],
          "name": "stdout"
        }
      ]
    },
    {
      "cell_type": "markdown",
      "metadata": {
        "id": "Q5UZgI7uCYXT"
      },
      "source": [
        "## There is relationship between \"Complaint Type\" and \"Location\"\n",
        "#### -Hence Are the type of complaint or service requested and location related"
      ]
    }
  ]
}